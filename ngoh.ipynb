{
 "cells": [
  {
   "cell_type": "code",
   "execution_count": 1,
   "id": "17ae4422-cf37-4628-84a5-12d85c1e08e7",
   "metadata": {},
   "outputs": [],
   "source": [
    "import pandas as pd\n",
    "import numpy as np\n",
    "import matplotlib.pyplot as plt\n",
    "import seaborn as sns\n",
    "\n"
   ]
  },
  {
   "cell_type": "code",
   "execution_count": null,
   "id": "0384db8c-41bc-45bb-9d4a-3b7a56b77320",
   "metadata": {},
   "outputs": [],
   "source": []
  },
  {
   "cell_type": "code",
   "execution_count": 2,
   "id": "cdca0264-3af1-4674-8697-7bab991b8d91",
   "metadata": {},
   "outputs": [],
   "source": [
    "# Date Time Indexing\n",
    "import pandas as pd\n",
    "# Load data from a CSV file\n",
    "df = pd.read_csv('Employe_Performance_dataset.csv')"
   ]
  },
  {
   "cell_type": "code",
   "execution_count": 3,
   "id": "ab3430a6-0bbb-4af9-b55c-821be897476c",
   "metadata": {},
   "outputs": [
    {
     "data": {
      "text/html": [
       "<div>\n",
       "<style scoped>\n",
       "    .dataframe tbody tr th:only-of-type {\n",
       "        vertical-align: middle;\n",
       "    }\n",
       "\n",
       "    .dataframe tbody tr th {\n",
       "        vertical-align: top;\n",
       "    }\n",
       "\n",
       "    .dataframe thead th {\n",
       "        text-align: right;\n",
       "    }\n",
       "</style>\n",
       "<table border=\"1\" class=\"dataframe\">\n",
       "  <thead>\n",
       "    <tr style=\"text-align: right;\">\n",
       "      <th></th>\n",
       "      <th>ID</th>\n",
       "      <th>Name</th>\n",
       "      <th>Age</th>\n",
       "      <th>Gender</th>\n",
       "      <th>Department</th>\n",
       "      <th>Salary</th>\n",
       "      <th>Joining Date</th>\n",
       "      <th>Performance Score</th>\n",
       "      <th>Experience</th>\n",
       "      <th>Status</th>\n",
       "      <th>Location</th>\n",
       "      <th>Session</th>\n",
       "    </tr>\n",
       "  </thead>\n",
       "  <tbody>\n",
       "    <tr>\n",
       "      <th>0</th>\n",
       "      <td>1</td>\n",
       "      <td>Cory Escobar</td>\n",
       "      <td>48</td>\n",
       "      <td>Female</td>\n",
       "      <td>HR</td>\n",
       "      <td>5641</td>\n",
       "      <td>2015-05-03</td>\n",
       "      <td>2.0</td>\n",
       "      <td>16</td>\n",
       "      <td>Active</td>\n",
       "      <td>New York</td>\n",
       "      <td>Night</td>\n",
       "    </tr>\n",
       "    <tr>\n",
       "      <th>1</th>\n",
       "      <td>2</td>\n",
       "      <td>Timothy Sanchez</td>\n",
       "      <td>25</td>\n",
       "      <td>Other</td>\n",
       "      <td>Sales</td>\n",
       "      <td>4249</td>\n",
       "      <td>2020-11-09</td>\n",
       "      <td>2.0</td>\n",
       "      <td>11</td>\n",
       "      <td>Inactive</td>\n",
       "      <td>Los Angeles</td>\n",
       "      <td>Evening</td>\n",
       "    </tr>\n",
       "    <tr>\n",
       "      <th>2</th>\n",
       "      <td>3</td>\n",
       "      <td>Chad Nichols</td>\n",
       "      <td>57</td>\n",
       "      <td>Other</td>\n",
       "      <td>Sales</td>\n",
       "      <td>3058</td>\n",
       "      <td>2019-02-12</td>\n",
       "      <td>NaN</td>\n",
       "      <td>1</td>\n",
       "      <td>Inactive</td>\n",
       "      <td>New York</td>\n",
       "      <td>Morning</td>\n",
       "    </tr>\n",
       "    <tr>\n",
       "      <th>3</th>\n",
       "      <td>4</td>\n",
       "      <td>Christine Williams</td>\n",
       "      <td>58</td>\n",
       "      <td>Female</td>\n",
       "      <td>IT</td>\n",
       "      <td>5895</td>\n",
       "      <td>2017-09-08</td>\n",
       "      <td>2.0</td>\n",
       "      <td>13</td>\n",
       "      <td>Inactive</td>\n",
       "      <td>Los Angeles</td>\n",
       "      <td>Evening</td>\n",
       "    </tr>\n",
       "    <tr>\n",
       "      <th>4</th>\n",
       "      <td>5</td>\n",
       "      <td>Amber Harris</td>\n",
       "      <td>35</td>\n",
       "      <td>Other</td>\n",
       "      <td>IT</td>\n",
       "      <td>4317</td>\n",
       "      <td>2020-02-15</td>\n",
       "      <td>5.0</td>\n",
       "      <td>16</td>\n",
       "      <td>Inactive</td>\n",
       "      <td>New York</td>\n",
       "      <td>Evening</td>\n",
       "    </tr>\n",
       "    <tr>\n",
       "      <th>...</th>\n",
       "      <td>...</td>\n",
       "      <td>...</td>\n",
       "      <td>...</td>\n",
       "      <td>...</td>\n",
       "      <td>...</td>\n",
       "      <td>...</td>\n",
       "      <td>...</td>\n",
       "      <td>...</td>\n",
       "      <td>...</td>\n",
       "      <td>...</td>\n",
       "      <td>...</td>\n",
       "      <td>...</td>\n",
       "    </tr>\n",
       "    <tr>\n",
       "      <th>995</th>\n",
       "      <td>996</td>\n",
       "      <td>Pamela Reeves</td>\n",
       "      <td>49</td>\n",
       "      <td>Female</td>\n",
       "      <td>Sales</td>\n",
       "      <td>7652</td>\n",
       "      <td>2024-06-23</td>\n",
       "      <td>4.0</td>\n",
       "      <td>3</td>\n",
       "      <td>Active</td>\n",
       "      <td>Los Angeles</td>\n",
       "      <td>Evening</td>\n",
       "    </tr>\n",
       "    <tr>\n",
       "      <th>996</th>\n",
       "      <td>997</td>\n",
       "      <td>Todd Johnson</td>\n",
       "      <td>29</td>\n",
       "      <td>Female</td>\n",
       "      <td>Sales</td>\n",
       "      <td>6754</td>\n",
       "      <td>2018-07-20</td>\n",
       "      <td>NaN</td>\n",
       "      <td>12</td>\n",
       "      <td>Inactive</td>\n",
       "      <td>New York</td>\n",
       "      <td>Morning</td>\n",
       "    </tr>\n",
       "    <tr>\n",
       "      <th>997</th>\n",
       "      <td>998</td>\n",
       "      <td>Michael Sanchez</td>\n",
       "      <td>18</td>\n",
       "      <td>Male</td>\n",
       "      <td>Sales</td>\n",
       "      <td>5278</td>\n",
       "      <td>2023-07-05</td>\n",
       "      <td>5.0</td>\n",
       "      <td>3</td>\n",
       "      <td>Active</td>\n",
       "      <td>New York</td>\n",
       "      <td>Morning</td>\n",
       "    </tr>\n",
       "    <tr>\n",
       "      <th>998</th>\n",
       "      <td>999</td>\n",
       "      <td>Ashley Taylor</td>\n",
       "      <td>51</td>\n",
       "      <td>Female</td>\n",
       "      <td>IT</td>\n",
       "      <td>5437</td>\n",
       "      <td>2022-02-18</td>\n",
       "      <td>4.0</td>\n",
       "      <td>9</td>\n",
       "      <td>Inactive</td>\n",
       "      <td>Los Angeles</td>\n",
       "      <td>Evening</td>\n",
       "    </tr>\n",
       "    <tr>\n",
       "      <th>999</th>\n",
       "      <td>1000</td>\n",
       "      <td>Shawn Scott</td>\n",
       "      <td>45</td>\n",
       "      <td>Male</td>\n",
       "      <td>IT</td>\n",
       "      <td>7364</td>\n",
       "      <td>2022-07-31</td>\n",
       "      <td>2.0</td>\n",
       "      <td>4</td>\n",
       "      <td>Active</td>\n",
       "      <td>New York</td>\n",
       "      <td>Morning</td>\n",
       "    </tr>\n",
       "  </tbody>\n",
       "</table>\n",
       "<p>1000 rows × 12 columns</p>\n",
       "</div>"
      ],
      "text/plain": [
       "       ID                Name  Age  Gender Department  Salary Joining Date  \\\n",
       "0       1        Cory Escobar   48  Female         HR    5641   2015-05-03   \n",
       "1       2     Timothy Sanchez   25   Other      Sales    4249   2020-11-09   \n",
       "2       3        Chad Nichols   57   Other      Sales    3058   2019-02-12   \n",
       "3       4  Christine Williams   58  Female         IT    5895   2017-09-08   \n",
       "4       5        Amber Harris   35   Other         IT    4317   2020-02-15   \n",
       "..    ...                 ...  ...     ...        ...     ...          ...   \n",
       "995   996       Pamela Reeves   49  Female      Sales    7652   2024-06-23   \n",
       "996   997        Todd Johnson   29  Female      Sales    6754   2018-07-20   \n",
       "997   998     Michael Sanchez   18    Male      Sales    5278   2023-07-05   \n",
       "998   999       Ashley Taylor   51  Female         IT    5437   2022-02-18   \n",
       "999  1000         Shawn Scott   45    Male         IT    7364   2022-07-31   \n",
       "\n",
       "     Performance Score  Experience    Status     Location  Session  \n",
       "0                  2.0          16    Active     New York    Night  \n",
       "1                  2.0          11  Inactive  Los Angeles  Evening  \n",
       "2                  NaN           1  Inactive     New York  Morning  \n",
       "3                  2.0          13  Inactive  Los Angeles  Evening  \n",
       "4                  5.0          16  Inactive     New York  Evening  \n",
       "..                 ...         ...       ...          ...      ...  \n",
       "995                4.0           3    Active  Los Angeles  Evening  \n",
       "996                NaN          12  Inactive     New York  Morning  \n",
       "997                5.0           3    Active     New York  Morning  \n",
       "998                4.0           9  Inactive  Los Angeles  Evening  \n",
       "999                2.0           4    Active     New York  Morning  \n",
       "\n",
       "[1000 rows x 12 columns]"
      ]
     },
     "execution_count": 3,
     "metadata": {},
     "output_type": "execute_result"
    }
   ],
   "source": [
    "df"
   ]
  },
  {
   "cell_type": "code",
   "execution_count": 4,
   "id": "daf737b1-4918-4231-b5fe-9341749a0c5b",
   "metadata": {},
   "outputs": [],
   "source": [
    "#Question 1 Load the dataset into a Pandas DataFrame and display the first 10 rows."
   ]
  },
  {
   "cell_type": "code",
   "execution_count": 5,
   "id": "f7d93bc0-0a52-4b76-8cf0-5d3b94ec47cc",
   "metadata": {},
   "outputs": [
    {
     "data": {
      "text/html": [
       "<div>\n",
       "<style scoped>\n",
       "    .dataframe tbody tr th:only-of-type {\n",
       "        vertical-align: middle;\n",
       "    }\n",
       "\n",
       "    .dataframe tbody tr th {\n",
       "        vertical-align: top;\n",
       "    }\n",
       "\n",
       "    .dataframe thead th {\n",
       "        text-align: right;\n",
       "    }\n",
       "</style>\n",
       "<table border=\"1\" class=\"dataframe\">\n",
       "  <thead>\n",
       "    <tr style=\"text-align: right;\">\n",
       "      <th></th>\n",
       "      <th>ID</th>\n",
       "      <th>Name</th>\n",
       "      <th>Age</th>\n",
       "      <th>Gender</th>\n",
       "      <th>Department</th>\n",
       "      <th>Salary</th>\n",
       "      <th>Joining Date</th>\n",
       "      <th>Performance Score</th>\n",
       "      <th>Experience</th>\n",
       "      <th>Status</th>\n",
       "      <th>Location</th>\n",
       "      <th>Session</th>\n",
       "    </tr>\n",
       "  </thead>\n",
       "  <tbody>\n",
       "    <tr>\n",
       "      <th>0</th>\n",
       "      <td>1</td>\n",
       "      <td>Cory Escobar</td>\n",
       "      <td>48</td>\n",
       "      <td>Female</td>\n",
       "      <td>HR</td>\n",
       "      <td>5641</td>\n",
       "      <td>2015-05-03</td>\n",
       "      <td>2.0</td>\n",
       "      <td>16</td>\n",
       "      <td>Active</td>\n",
       "      <td>New York</td>\n",
       "      <td>Night</td>\n",
       "    </tr>\n",
       "    <tr>\n",
       "      <th>1</th>\n",
       "      <td>2</td>\n",
       "      <td>Timothy Sanchez</td>\n",
       "      <td>25</td>\n",
       "      <td>Other</td>\n",
       "      <td>Sales</td>\n",
       "      <td>4249</td>\n",
       "      <td>2020-11-09</td>\n",
       "      <td>2.0</td>\n",
       "      <td>11</td>\n",
       "      <td>Inactive</td>\n",
       "      <td>Los Angeles</td>\n",
       "      <td>Evening</td>\n",
       "    </tr>\n",
       "    <tr>\n",
       "      <th>2</th>\n",
       "      <td>3</td>\n",
       "      <td>Chad Nichols</td>\n",
       "      <td>57</td>\n",
       "      <td>Other</td>\n",
       "      <td>Sales</td>\n",
       "      <td>3058</td>\n",
       "      <td>2019-02-12</td>\n",
       "      <td>NaN</td>\n",
       "      <td>1</td>\n",
       "      <td>Inactive</td>\n",
       "      <td>New York</td>\n",
       "      <td>Morning</td>\n",
       "    </tr>\n",
       "    <tr>\n",
       "      <th>3</th>\n",
       "      <td>4</td>\n",
       "      <td>Christine Williams</td>\n",
       "      <td>58</td>\n",
       "      <td>Female</td>\n",
       "      <td>IT</td>\n",
       "      <td>5895</td>\n",
       "      <td>2017-09-08</td>\n",
       "      <td>2.0</td>\n",
       "      <td>13</td>\n",
       "      <td>Inactive</td>\n",
       "      <td>Los Angeles</td>\n",
       "      <td>Evening</td>\n",
       "    </tr>\n",
       "    <tr>\n",
       "      <th>4</th>\n",
       "      <td>5</td>\n",
       "      <td>Amber Harris</td>\n",
       "      <td>35</td>\n",
       "      <td>Other</td>\n",
       "      <td>IT</td>\n",
       "      <td>4317</td>\n",
       "      <td>2020-02-15</td>\n",
       "      <td>5.0</td>\n",
       "      <td>16</td>\n",
       "      <td>Inactive</td>\n",
       "      <td>New York</td>\n",
       "      <td>Evening</td>\n",
       "    </tr>\n",
       "    <tr>\n",
       "      <th>5</th>\n",
       "      <td>6</td>\n",
       "      <td>Ashley Howe</td>\n",
       "      <td>29</td>\n",
       "      <td>Female</td>\n",
       "      <td>HR</td>\n",
       "      <td>2591</td>\n",
       "      <td>2016-06-24</td>\n",
       "      <td>1.0</td>\n",
       "      <td>6</td>\n",
       "      <td>Active</td>\n",
       "      <td>Chicago</td>\n",
       "      <td>Evening</td>\n",
       "    </tr>\n",
       "    <tr>\n",
       "      <th>6</th>\n",
       "      <td>7</td>\n",
       "      <td>David Olson</td>\n",
       "      <td>39</td>\n",
       "      <td>Female</td>\n",
       "      <td>Sales</td>\n",
       "      <td>6826</td>\n",
       "      <td>2023-05-11</td>\n",
       "      <td>NaN</td>\n",
       "      <td>4</td>\n",
       "      <td>Active</td>\n",
       "      <td>New York</td>\n",
       "      <td>Night</td>\n",
       "    </tr>\n",
       "    <tr>\n",
       "      <th>7</th>\n",
       "      <td>8</td>\n",
       "      <td>Amanda Baker</td>\n",
       "      <td>52</td>\n",
       "      <td>Other</td>\n",
       "      <td>HR</td>\n",
       "      <td>6285</td>\n",
       "      <td>2015-04-01</td>\n",
       "      <td>NaN</td>\n",
       "      <td>8</td>\n",
       "      <td>Inactive</td>\n",
       "      <td>Chicago</td>\n",
       "      <td>Evening</td>\n",
       "    </tr>\n",
       "    <tr>\n",
       "      <th>8</th>\n",
       "      <td>9</td>\n",
       "      <td>Jeremy Wright</td>\n",
       "      <td>63</td>\n",
       "      <td>Female</td>\n",
       "      <td>Sales</td>\n",
       "      <td>9862</td>\n",
       "      <td>2024-02-07</td>\n",
       "      <td>NaN</td>\n",
       "      <td>3</td>\n",
       "      <td>Inactive</td>\n",
       "      <td>New York</td>\n",
       "      <td>Night</td>\n",
       "    </tr>\n",
       "    <tr>\n",
       "      <th>9</th>\n",
       "      <td>10</td>\n",
       "      <td>Brian Faulkner</td>\n",
       "      <td>30</td>\n",
       "      <td>Male</td>\n",
       "      <td>IT</td>\n",
       "      <td>8202</td>\n",
       "      <td>2018-05-26</td>\n",
       "      <td>1.0</td>\n",
       "      <td>9</td>\n",
       "      <td>Active</td>\n",
       "      <td>Los Angeles</td>\n",
       "      <td>Morning</td>\n",
       "    </tr>\n",
       "  </tbody>\n",
       "</table>\n",
       "</div>"
      ],
      "text/plain": [
       "   ID                Name  Age  Gender Department  Salary Joining Date  \\\n",
       "0   1        Cory Escobar   48  Female         HR    5641   2015-05-03   \n",
       "1   2     Timothy Sanchez   25   Other      Sales    4249   2020-11-09   \n",
       "2   3        Chad Nichols   57   Other      Sales    3058   2019-02-12   \n",
       "3   4  Christine Williams   58  Female         IT    5895   2017-09-08   \n",
       "4   5        Amber Harris   35   Other         IT    4317   2020-02-15   \n",
       "5   6         Ashley Howe   29  Female         HR    2591   2016-06-24   \n",
       "6   7         David Olson   39  Female      Sales    6826   2023-05-11   \n",
       "7   8        Amanda Baker   52   Other         HR    6285   2015-04-01   \n",
       "8   9       Jeremy Wright   63  Female      Sales    9862   2024-02-07   \n",
       "9  10      Brian Faulkner   30    Male         IT    8202   2018-05-26   \n",
       "\n",
       "   Performance Score  Experience    Status     Location  Session  \n",
       "0                2.0          16    Active     New York    Night  \n",
       "1                2.0          11  Inactive  Los Angeles  Evening  \n",
       "2                NaN           1  Inactive     New York  Morning  \n",
       "3                2.0          13  Inactive  Los Angeles  Evening  \n",
       "4                5.0          16  Inactive     New York  Evening  \n",
       "5                1.0           6    Active      Chicago  Evening  \n",
       "6                NaN           4    Active     New York    Night  \n",
       "7                NaN           8  Inactive      Chicago  Evening  \n",
       "8                NaN           3  Inactive     New York    Night  \n",
       "9                1.0           9    Active  Los Angeles  Morning  "
      ]
     },
     "execution_count": 5,
     "metadata": {},
     "output_type": "execute_result"
    }
   ],
   "source": [
    "df.head(10)"
   ]
  },
  {
   "cell_type": "markdown",
   "id": "814bdf19-cfa3-41a5-8fe3-6b7d76c896e2",
   "metadata": {},
   "source": [
    "#Question 2 What are the column names and their respective data types in the dataset"
   ]
  },
  {
   "cell_type": "code",
   "execution_count": 6,
   "id": "dc064730-c627-499e-b81e-481763d76e48",
   "metadata": {},
   "outputs": [
    {
     "name": "stdout",
     "output_type": "stream",
     "text": [
      "\n",
      "Updated Data Types:\n",
      "ID                            int64\n",
      "Name                         object\n",
      "Age                           int32\n",
      "Gender                       object\n",
      "Department                   object\n",
      "Salary                      float64\n",
      "Joining Date         datetime64[ns]\n",
      "Performance Score           float64\n",
      "Experience                    int64\n",
      "Status                       object\n",
      "Location                     object\n",
      "Session                      object\n",
      "dtype: object\n"
     ]
    }
   ],
   "source": [
    "# Convert columns to specific data types\n",
    "df[\"Age\"] = df[\"Age\"].astype(int)  # Convert Age to integer\n",
    "df[\"Salary\"] = df[\"Salary\"].astype(float)  # Convert Salary to float\n",
    "df[\"Joining Date\"] = pd.to_datetime(df[\"Joining Date\"])  # Convert Joining Date to datetime\n",
    "\n",
    "print(\"\\nUpdated Data Types:\")\n",
    "print(df.dtypes)\n"
   ]
  },
  {
   "cell_type": "code",
   "execution_count": 7,
   "id": "f25a38ba-275d-41fd-a421-ddfb4d451bcb",
   "metadata": {},
   "outputs": [
    {
     "name": "stdout",
     "output_type": "stream",
     "text": [
      "Object `dataset` not found.\n"
     ]
    }
   ],
   "source": [
    "How many rows and columns are there in the dataset?"
   ]
  },
  {
   "cell_type": "code",
   "execution_count": 8,
   "id": "91168a86-be0a-4fcc-9158-8961d43f676f",
   "metadata": {},
   "outputs": [
    {
     "data": {
      "text/plain": [
       "(1000, 12)"
      ]
     },
     "execution_count": 8,
     "metadata": {},
     "output_type": "execute_result"
    }
   ],
   "source": [
    "df.shape"
   ]
  },
  {
   "cell_type": "code",
   "execution_count": 9,
   "id": "88b598ed-940b-4ced-9078-acabb9548559",
   "metadata": {},
   "outputs": [
    {
     "name": "stdout",
     "output_type": "stream",
     "text": [
      "The dataset has 1000 rows and 12 columns.\n"
     ]
    }
   ],
   "source": [
    "rows, columns = df.shape  # Unpack rows and columns\n",
    "print(f\"The dataset has {rows} rows and {columns} columns.\")\n"
   ]
  },
  {
   "cell_type": "code",
   "execution_count": 10,
   "id": "611ecc89-b627-46dc-afd3-04c8fc8afcbc",
   "metadata": {},
   "outputs": [],
   "source": [
    "#Question 3  Select the Name, Age, and Salary columns using df[]."
   ]
  },
  {
   "cell_type": "code",
   "execution_count": 11,
   "id": "686a875e-5558-47f7-8ec7-f024691caa9e",
   "metadata": {},
   "outputs": [
    {
     "name": "stdout",
     "output_type": "stream",
     "text": [
      "                   Name  Age  Salary\n",
      "0          Cory Escobar   48  5641.0\n",
      "1       Timothy Sanchez   25  4249.0\n",
      "2          Chad Nichols   57  3058.0\n",
      "3    Christine Williams   58  5895.0\n",
      "4          Amber Harris   35  4317.0\n",
      "..                  ...  ...     ...\n",
      "995       Pamela Reeves   49  7652.0\n",
      "996        Todd Johnson   29  6754.0\n",
      "997     Michael Sanchez   18  5278.0\n",
      "998       Ashley Taylor   51  5437.0\n",
      "999         Shawn Scott   45  7364.0\n",
      "\n",
      "[1000 rows x 3 columns]\n"
     ]
    }
   ],
   "source": [
    "selected_columns = df[['Name', 'Age', 'Salary']]\n",
    "print(selected_columns)\n"
   ]
  },
  {
   "cell_type": "code",
   "execution_count": 12,
   "id": "828a7fae-1708-4f43-b91b-69290fc273a0",
   "metadata": {},
   "outputs": [],
   "source": [
    "#Question 4 Select the first 5 rows of the DataFrame using the iloc method."
   ]
  },
  {
   "cell_type": "code",
   "execution_count": 13,
   "id": "47d50743-9ca2-4f6b-a8cf-4c073227de94",
   "metadata": {},
   "outputs": [
    {
     "name": "stdout",
     "output_type": "stream",
     "text": [
      "                 Name  Age  Salary\n",
      "0        Cory Escobar   48  5641.0\n",
      "1     Timothy Sanchez   25  4249.0\n",
      "2        Chad Nichols   57  3058.0\n",
      "3  Christine Williams   58  5895.0\n",
      "4        Amber Harris   35  4317.0\n"
     ]
    }
   ],
   "source": [
    "first_five_rows = df.iloc[:5, [1, 2, 5]]  # Columns by index: 1 = Name, 2 = Age, 5 = Salary\n",
    "print(first_five_rows)\n",
    "\n"
   ]
  },
  {
   "cell_type": "code",
   "execution_count": 14,
   "id": "06dab768-c86f-406a-975d-84f04be85eab",
   "metadata": {},
   "outputs": [],
   "source": [
    "# Question 6. Select all rows where the Department is \"Sales\" using the loc method."
   ]
  },
  {
   "cell_type": "code",
   "execution_count": 15,
   "id": "12b4e129-c8ba-4490-b0e7-50cf3e36ba60",
   "metadata": {},
   "outputs": [
    {
     "name": "stdout",
     "output_type": "stream",
     "text": [
      "      ID             Name  Age  Gender Department  Salary Joining Date  \\\n",
      "1      2  Timothy Sanchez   25   Other      Sales  4249.0   2020-11-09   \n",
      "2      3     Chad Nichols   57   Other      Sales  3058.0   2019-02-12   \n",
      "6      7      David Olson   39  Female      Sales  6826.0   2023-05-11   \n",
      "8      9    Jeremy Wright   63  Female      Sales  9862.0   2024-02-07   \n",
      "10    11      Nicole Bell   42  Female      Sales  5336.0   2015-01-28   \n",
      "..   ...              ...  ...     ...        ...     ...          ...   \n",
      "991  992  William Schultz   23   Other      Sales  4311.0   2019-08-17   \n",
      "992  993   Ashley Daniels   25   Other      Sales  5524.0   2022-11-24   \n",
      "995  996    Pamela Reeves   49  Female      Sales  7652.0   2024-06-23   \n",
      "996  997     Todd Johnson   29  Female      Sales  6754.0   2018-07-20   \n",
      "997  998  Michael Sanchez   18    Male      Sales  5278.0   2023-07-05   \n",
      "\n",
      "     Performance Score  Experience    Status     Location  Session  \n",
      "1                  2.0          11  Inactive  Los Angeles  Evening  \n",
      "2                  NaN           1  Inactive     New York  Morning  \n",
      "6                  NaN           4    Active     New York    Night  \n",
      "8                  NaN           3  Inactive     New York    Night  \n",
      "10                 3.0           7    Active  Los Angeles  Evening  \n",
      "..                 ...         ...       ...          ...      ...  \n",
      "991                NaN          10  Inactive  Los Angeles  Evening  \n",
      "992                NaN           8  Inactive     New York  Morning  \n",
      "995                4.0           3    Active  Los Angeles  Evening  \n",
      "996                NaN          12  Inactive     New York  Morning  \n",
      "997                5.0           3    Active     New York  Morning  \n",
      "\n",
      "[338 rows x 12 columns]\n"
     ]
    }
   ],
   "source": [
    "sales_department = df.loc[df['Department'] == 'Sales']\n",
    "print(sales_department)\n",
    "\n"
   ]
  },
  {
   "cell_type": "code",
   "execution_count": 16,
   "id": "8d9f9f39-f23f-48ff-8c90-5b795bc0d27a",
   "metadata": {},
   "outputs": [
    {
     "name": "stdout",
     "output_type": "stream",
     "text": [
      "0      5641.0\n",
      "1      4249.0\n",
      "2      3058.0\n",
      "3      5895.0\n",
      "4      4317.0\n",
      "        ...  \n",
      "995    7652.0\n",
      "996    6754.0\n",
      "997    5278.0\n",
      "998    5437.0\n",
      "999    7364.0\n",
      "Name: Salary, Length: 1000, dtype: float64\n"
     ]
    }
   ],
   "source": [
    "sales_column = df['Salary']  # Assuming you meant 'Salary' as there’s no 'Sales' column.\n",
    "print(sales_column)\n"
   ]
  },
  {
   "cell_type": "code",
   "execution_count": 17,
   "id": "191aab02-e0dd-44f8-baef-d2cf34a140a0",
   "metadata": {},
   "outputs": [],
   "source": [
    "# Question 7 Select rows where the Salary is greater than 8000 and Status is \"Active\""
   ]
  },
  {
   "cell_type": "code",
   "execution_count": 18,
   "id": "257402a5-4c56-4e0d-9abe-4cb9b19aad9a",
   "metadata": {},
   "outputs": [
    {
     "name": "stdout",
     "output_type": "stream",
     "text": [
      "      ID             Name  Age  Gender Department  Salary Joining Date  \\\n",
      "9     10   Brian Faulkner   30    Male         IT  8202.0   2018-05-26   \n",
      "24    25    Tracy Carlson   21    Male         HR  9275.0   2022-04-09   \n",
      "38    39     Jordan Scott   33   Other      Sales  8678.0   2016-05-15   \n",
      "39    40      Lisa Wagner   36    Male         HR  8870.0   2024-08-12   \n",
      "60    61   Andrew Shannon   51   Other      Sales  8544.0   2020-02-08   \n",
      "..   ...              ...  ...     ...        ...     ...          ...   \n",
      "976  977    Kimberly Ross   19    Male      Sales  9331.0   2018-07-03   \n",
      "982  983    Stephen Ponce   46   Other      Sales  8696.0   2022-10-14   \n",
      "986  987  Melissa Bradley   39  Female         IT  9618.0   2015-07-05   \n",
      "988  989   Hannah Hickman   36  Female         IT  9118.0   2022-07-02   \n",
      "989  990    Shannon Meyer   18   Other         HR  9985.0   2022-11-05   \n",
      "\n",
      "     Performance Score  Experience  Status     Location  Session  \n",
      "9                  1.0           9  Active  Los Angeles  Morning  \n",
      "24                 4.0          12  Active     New York  Morning  \n",
      "38                 5.0           9  Active  Los Angeles  Evening  \n",
      "39                 4.0          17  Active  Los Angeles  Evening  \n",
      "60                 NaN           6  Active     New York  Evening  \n",
      "..                 ...         ...     ...          ...      ...  \n",
      "976                5.0          12  Active     New York  Morning  \n",
      "982                4.0           1  Active     New York  Evening  \n",
      "986                1.0          13  Active     New York  Morning  \n",
      "988                5.0           5  Active     New York    Night  \n",
      "989                4.0          18  Active      Chicago    Night  \n",
      "\n",
      "[112 rows x 12 columns]\n"
     ]
    }
   ],
   "source": [
    "filtered_rows = df.loc[(df['Salary'] > 8000) & (df['Status'] == 'Active')]\n",
    "print(filtered_rows)\n"
   ]
  },
  {
   "cell_type": "code",
   "execution_count": 19,
   "id": "13d2e383-2e65-4963-87f7-3098791dffb7",
   "metadata": {},
   "outputs": [
    {
     "name": "stdout",
     "output_type": "stream",
     "text": [
      "       ID                Name  Age  Gender Department  Salary Joining Date  \\\n",
      "0       1        Cory Escobar   48  Female         HR  5641.0   2015-05-03   \n",
      "1       2     Timothy Sanchez   25   Other      Sales  4249.0   2020-11-09   \n",
      "2       3        Chad Nichols   57   Other      Sales  3058.0   2019-02-12   \n",
      "3       4  Christine Williams   58  Female         IT  5895.0   2017-09-08   \n",
      "4       5        Amber Harris   35   Other         IT  4317.0   2020-02-15   \n",
      "..    ...                 ...  ...     ...        ...     ...          ...   \n",
      "995   996       Pamela Reeves   49  Female      Sales  7652.0   2024-06-23   \n",
      "996   997        Todd Johnson   29  Female      Sales  6754.0   2018-07-20   \n",
      "997   998     Michael Sanchez   18    Male      Sales  5278.0   2023-07-05   \n",
      "998   999       Ashley Taylor   51  Female         IT  5437.0   2022-02-18   \n",
      "999  1000         Shawn Scott   45    Male         IT  7364.0   2022-07-31   \n",
      "\n",
      "     Performance Score  Experience    Status     Location  Session  \n",
      "0                  2.0          16    Active     New York    Night  \n",
      "1                  2.0          11  Inactive  Los Angeles  Evening  \n",
      "2                  NaN           1  Inactive     New York  Morning  \n",
      "3                  2.0          13  Inactive  Los Angeles  Evening  \n",
      "4                  5.0          16  Inactive     New York  Evening  \n",
      "..                 ...         ...       ...          ...      ...  \n",
      "995                4.0           3    Active  Los Angeles  Evening  \n",
      "996                NaN          12  Inactive     New York  Morning  \n",
      "997                5.0           3    Active     New York  Morning  \n",
      "998                4.0           9  Inactive  Los Angeles  Evening  \n",
      "999                2.0           4    Active     New York  Morning  \n",
      "\n",
      "[1000 rows x 12 columns]\n"
     ]
    }
   ],
   "source": [
    "print(df)"
   ]
  },
  {
   "cell_type": "code",
   "execution_count": 20,
   "id": "84de354f-38c3-40d4-9d2e-02c0f15d70ce",
   "metadata": {},
   "outputs": [],
   "source": [
    "# Question 8.Extract the rows where the employee has been with the company for more than 5 years and has a Performance Score of at least 4. "
   ]
  },
  {
   "cell_type": "markdown",
   "id": "e8bed005-7a57-4e36-8648-f07faf77b391",
   "metadata": {},
   "source": [
    "This code uses the loc[] method to filter the rows based on two conditions:\n",
    "\n",
    "1) Experience > 5: The employee has been with the company for more than 5 years.\n",
    "2) Performance Score >= 4: The employee has a Performance Score of at least 4"
   ]
  },
  {
   "cell_type": "code",
   "execution_count": 21,
   "id": "5527ea5a-04e2-4421-91b8-7cc9f950dd3d",
   "metadata": {},
   "outputs": [
    {
     "name": "stdout",
     "output_type": "stream",
     "text": [
      "      ID                Name  Age  Gender Department  Salary Joining Date  \\\n",
      "4      5        Amber Harris   35   Other         IT  4317.0   2020-02-15   \n",
      "11    12   Rodney Richardson   60   Other         HR  6908.0   2015-03-14   \n",
      "17    18  Jacqueline Randall   31  Female         HR  3519.0   2018-05-18   \n",
      "18    19      Nancy Stephens   38    Male         HR  9061.0   2017-07-16   \n",
      "24    25       Tracy Carlson   21    Male         HR  9275.0   2022-04-09   \n",
      "..   ...                 ...  ...     ...        ...     ...          ...   \n",
      "978  979         Michael Lee   18  Female         IT  6086.0   2019-05-30   \n",
      "989  990       Shannon Meyer   18   Other         HR  9985.0   2022-11-05   \n",
      "990  991        Amy Johnston   53  Female         HR  3991.0   2024-09-03   \n",
      "993  994       Brandon Bruce   31  Female         HR  3371.0   2018-09-25   \n",
      "998  999       Ashley Taylor   51  Female         IT  5437.0   2022-02-18   \n",
      "\n",
      "     Performance Score  Experience    Status     Location  Session  \n",
      "4                  5.0          16  Inactive     New York  Evening  \n",
      "11                 4.0          19    Active      Chicago    Night  \n",
      "17                 4.0           6    Active     New York  Morning  \n",
      "18                 5.0          16  Inactive      Chicago    Night  \n",
      "24                 4.0          12    Active     New York  Morning  \n",
      "..                 ...         ...       ...          ...      ...  \n",
      "978                4.0           7  Inactive  Los Angeles  Evening  \n",
      "989                4.0          18    Active      Chicago    Night  \n",
      "990                4.0           8    Active      Chicago  Morning  \n",
      "993                5.0          12  Inactive      Chicago    Night  \n",
      "998                4.0           9  Inactive  Los Angeles  Evening  \n",
      "\n",
      "[137 rows x 12 columns]\n"
     ]
    }
   ],
   "source": [
    "# Filter the rows based on the given conditions\n",
    "filtered_rows = df.loc[(df['Experience'] > 5) & (df['Performance Score'] >= 4)]\n",
    "\n",
    "# Print the filtered rows\n",
    "print(filtered_rows)\n"
   ]
  },
  {
   "cell_type": "code",
   "execution_count": 22,
   "id": "b870f3d3-41a5-4419-aa02-04c56a08ae8e",
   "metadata": {},
   "outputs": [],
   "source": [
    "# Question 9  Select every alternate row from the DataFrame using slicing with iloc."
   ]
  },
  {
   "cell_type": "code",
   "execution_count": 23,
   "id": "45926f4a-8d58-40b6-9fc5-61a91c27971f",
   "metadata": {},
   "outputs": [
    {
     "name": "stdout",
     "output_type": "stream",
     "text": [
      "      ID             Name  Age  Gender Department  Salary Joining Date  \\\n",
      "0      1     Cory Escobar   48  Female         HR  5641.0   2015-05-03   \n",
      "2      3     Chad Nichols   57   Other      Sales  3058.0   2019-02-12   \n",
      "4      5     Amber Harris   35   Other         IT  4317.0   2020-02-15   \n",
      "6      7      David Olson   39  Female      Sales  6826.0   2023-05-11   \n",
      "8      9    Jeremy Wright   63  Female      Sales  9862.0   2024-02-07   \n",
      "..   ...              ...  ...     ...        ...     ...          ...   \n",
      "990  991     Amy Johnston   53  Female         HR  3991.0   2024-09-03   \n",
      "992  993   Ashley Daniels   25   Other      Sales  5524.0   2022-11-24   \n",
      "994  995  Rachel Phillips   22    Male         IT  3096.0   2018-10-27   \n",
      "996  997     Todd Johnson   29  Female      Sales  6754.0   2018-07-20   \n",
      "998  999    Ashley Taylor   51  Female         IT  5437.0   2022-02-18   \n",
      "\n",
      "     Performance Score  Experience    Status     Location  Session  \n",
      "0                  2.0          16    Active     New York    Night  \n",
      "2                  NaN           1  Inactive     New York  Morning  \n",
      "4                  5.0          16  Inactive     New York  Evening  \n",
      "6                  NaN           4    Active     New York    Night  \n",
      "8                  NaN           3  Inactive     New York    Night  \n",
      "..                 ...         ...       ...          ...      ...  \n",
      "990                4.0           8    Active      Chicago  Morning  \n",
      "992                NaN           8  Inactive     New York  Morning  \n",
      "994                2.0           7  Inactive      Chicago  Evening  \n",
      "996                NaN          12  Inactive     New York  Morning  \n",
      "998                4.0           9  Inactive  Los Angeles  Evening  \n",
      "\n",
      "[500 rows x 12 columns]\n"
     ]
    }
   ],
   "source": [
    "# Select every alternate row using iloc\n",
    "alternate_rows = df.iloc[::2]\n",
    "\n",
    "# Print the result\n",
    "print(alternate_rows)\n"
   ]
  },
  {
   "cell_type": "code",
   "execution_count": 24,
   "id": "f48c37f0-b9fd-443e-a3e7-7db98557130d",
   "metadata": {},
   "outputs": [],
   "source": [
    "# Question 10 . Retrieve rows where the employee belongs to \"Sales\" and has a Salary in the top 10% of all salaries. "
   ]
  },
  {
   "cell_type": "code",
   "execution_count": 25,
   "id": "abb660a2-ec14-431d-90e9-e92a6005583d",
   "metadata": {},
   "outputs": [
    {
     "name": "stdout",
     "output_type": "stream",
     "text": [
      "8      9862.0\n",
      "22     9598.0\n",
      "29     9661.0\n",
      "215    9377.0\n",
      "228    9139.0\n",
      "239    9356.0\n",
      "250    9924.0\n",
      "263    9455.0\n",
      "275    9749.0\n",
      "299    9375.0\n",
      "379    9726.0\n",
      "381    9269.0\n",
      "405    9505.0\n",
      "442    9146.0\n",
      "459    8957.0\n",
      "491    9181.0\n",
      "516    9630.0\n",
      "552    9704.0\n",
      "591    9323.0\n",
      "594    9906.0\n",
      "629    9364.0\n",
      "664    9053.0\n",
      "742    9409.0\n",
      "756    9666.0\n",
      "758    9917.0\n",
      "778    9653.0\n",
      "796    9926.0\n",
      "820    8949.0\n",
      "844    9693.0\n",
      "898    9819.0\n",
      "903    9658.0\n",
      "932    9616.0\n",
      "937    9963.0\n",
      "976    9331.0\n",
      "Name: Salary, dtype: float64\n"
     ]
    }
   ],
   "source": [
    "# Filter the DataFrame for rows where the Department is 'Sales'\n",
    "sales_data = df[df['Department'] == 'Sales']\n",
    "\n",
    "# Calculate the 90th percentile of the Salary column\n",
    "salary_threshold = sales_data['Salary'].quantile(0.9)\n",
    "\n",
    "# Filter rows where Salary is in the top 10%\n",
    "top_10_sales = sales_data[sales_data['Salary'] >= salary_threshold]\n",
    "\n",
    "# Display the Sales column (or Salary column)\n",
    "print(top_10_sales['Salary'])\n"
   ]
  },
  {
   "cell_type": "code",
   "execution_count": 26,
   "id": "57b5601b-04ec-4106-aee4-45a3d1d6e5c6",
   "metadata": {},
   "outputs": [],
   "source": [
    "#Question 11  Replace all \"Inactive\" values in the Status column with \"Retired\". "
   ]
  },
  {
   "cell_type": "code",
   "execution_count": 27,
   "id": "48c50c9e-2984-4731-aab5-b7647d43c603",
   "metadata": {},
   "outputs": [
    {
     "name": "stdout",
     "output_type": "stream",
     "text": [
      "   ID                Name  Age  Gender Department  Salary Joining Date  \\\n",
      "0   1        Cory Escobar   48  Female         HR  5641.0   2015-05-03   \n",
      "1   2     Timothy Sanchez   25   Other      Sales  4249.0   2020-11-09   \n",
      "2   3        Chad Nichols   57   Other      Sales  3058.0   2019-02-12   \n",
      "3   4  Christine Williams   58  Female         IT  5895.0   2017-09-08   \n",
      "4   5        Amber Harris   35   Other         IT  4317.0   2020-02-15   \n",
      "\n",
      "   Performance Score  Experience   Status     Location  Session  \n",
      "0                2.0          16   Active     New York    Night  \n",
      "1                2.0          11  Retired  Los Angeles  Evening  \n",
      "2                NaN           1  Retired     New York  Morning  \n",
      "3                2.0          13  Retired  Los Angeles  Evening  \n",
      "4                5.0          16  Retired     New York  Evening  \n"
     ]
    }
   ],
   "source": [
    "# Replace all \"Inactive\" values in the 'Status' column with \"Retired\"\n",
    "df['Status'] = df['Status'].replace('Inactive', 'Retired')\n",
    "\n",
    "# Check the updated DataFrame\n",
    "print(df.head())\n"
   ]
  },
  {
   "cell_type": "code",
   "execution_count": 28,
   "id": "51d3ed05-e3d3-4665-b013-6669402c44b6",
   "metadata": {},
   "outputs": [],
   "source": [
    "# Question 12  Add a new column Bonus where values are 10% of the Salary column. "
   ]
  },
  {
   "cell_type": "code",
   "execution_count": 29,
   "id": "3050fe3b-89ee-4de6-9a1c-64501dca27b4",
   "metadata": {},
   "outputs": [
    {
     "name": "stdout",
     "output_type": "stream",
     "text": [
      "   ID                Name  Age  Gender Department  Salary Joining Date  \\\n",
      "0   1        Cory Escobar   48  Female         HR  5641.0   2015-05-03   \n",
      "1   2     Timothy Sanchez   25   Other      Sales  4249.0   2020-11-09   \n",
      "2   3        Chad Nichols   57   Other      Sales  3058.0   2019-02-12   \n",
      "3   4  Christine Williams   58  Female         IT  5895.0   2017-09-08   \n",
      "4   5        Amber Harris   35   Other         IT  4317.0   2020-02-15   \n",
      "\n",
      "   Performance Score  Experience   Status     Location  Session  Bonus  \n",
      "0                2.0          16   Active     New York    Night  564.1  \n",
      "1                2.0          11  Retired  Los Angeles  Evening  424.9  \n",
      "2                NaN           1  Retired     New York  Morning  305.8  \n",
      "3                2.0          13  Retired  Los Angeles  Evening  589.5  \n",
      "4                5.0          16  Retired     New York  Evening  431.7  \n"
     ]
    }
   ],
   "source": [
    "# Add a new column 'Bonus' that is 10% of the 'Salary' column\n",
    "df['Bonus'] = df['Salary'] * 0.10\n",
    "\n",
    "# Check the updated DataFrame\n",
    "print(df.head())\n"
   ]
  },
  {
   "cell_type": "code",
   "execution_count": 30,
   "id": "7d6327cf-bd93-4f79-b1aa-430f94d4c223",
   "metadata": {},
   "outputs": [],
   "source": [
    "# 13. Update the Performance Score of employees in the \"IT\" department to 5 if it is NaN."
   ]
  },
  {
   "cell_type": "code",
   "execution_count": 31,
   "id": "c828de1f-1eba-48d6-a709-d9406a41d313",
   "metadata": {},
   "outputs": [
    {
     "name": "stdout",
     "output_type": "stream",
     "text": [
      "   ID                Name  Age  Gender Department  Salary Joining Date  \\\n",
      "0   1        Cory Escobar   48  Female         HR  5641.0   2015-05-03   \n",
      "1   2     Timothy Sanchez   25   Other      Sales  4249.0   2020-11-09   \n",
      "2   3        Chad Nichols   57   Other      Sales  3058.0   2019-02-12   \n",
      "3   4  Christine Williams   58  Female         IT  5895.0   2017-09-08   \n",
      "4   5        Amber Harris   35   Other         IT  4317.0   2020-02-15   \n",
      "\n",
      "   Performance Score  Experience   Status     Location  Session  Bonus  \n",
      "0                2.0          16   Active     New York    Night  564.1  \n",
      "1                2.0          11  Retired  Los Angeles  Evening  424.9  \n",
      "2                NaN           1  Retired     New York  Morning  305.8  \n",
      "3                2.0          13  Retired  Los Angeles  Evening  589.5  \n",
      "4                5.0          16  Retired     New York  Evening  431.7  \n"
     ]
    }
   ],
   "source": [
    "# Update Performance Score to 5 where it is NaN in the 'IT' department\n",
    "df.loc[(df['Department'] == 'IT') & (df['Performance Score'].isna()), 'Performance Score'] = 5\n",
    "\n",
    "# Check the updated DataFrame\n",
    "print(df.head())\n"
   ]
  },
  {
   "cell_type": "code",
   "execution_count": 32,
   "id": "9bb23f38-66a4-4a9e-a173-5aa1c5579c2f",
   "metadata": {},
   "outputs": [],
   "source": [
    "#df['Experience'] < 2 identifies rows where the Experience is less than 2.\n",
    "#df.loc[...] selects these rows, and the Experience column is updated to 2 for those rows."
   ]
  },
  {
   "cell_type": "code",
   "execution_count": 33,
   "id": "a42659aa-e92f-46d6-b7f2-b350ce3a34d7",
   "metadata": {},
   "outputs": [
    {
     "name": "stdout",
     "output_type": "stream",
     "text": [
      "   ID                Name  Age  Gender Department  Salary Joining Date  \\\n",
      "0   1        Cory Escobar   48  Female         HR  5641.0   2015-05-03   \n",
      "1   2     Timothy Sanchez   25   Other      Sales  4249.0   2020-11-09   \n",
      "2   3        Chad Nichols   57   Other      Sales  3058.0   2019-02-12   \n",
      "3   4  Christine Williams   58  Female         IT  5895.0   2017-09-08   \n",
      "4   5        Amber Harris   35   Other         IT  4317.0   2020-02-15   \n",
      "\n",
      "   Performance Score  Experience   Status     Location  Session  Bonus  \n",
      "0                2.0          16   Active     New York    Night  564.1  \n",
      "1                2.0          11  Retired  Los Angeles  Evening  424.9  \n",
      "2                NaN           2  Retired     New York  Morning  305.8  \n",
      "3                2.0          13  Retired  Los Angeles  Evening  589.5  \n",
      "4                5.0          16  Retired     New York  Evening  431.7  \n"
     ]
    }
   ],
   "source": [
    "# Update Experience to 2 for employees with less than 2 years\n",
    "df.loc[df['Experience'] < 2, 'Experience'] = 2\n",
    "\n",
    "# Check the updated DataFrame\n",
    "print(df.head())\n"
   ]
  },
  {
   "cell_type": "code",
   "execution_count": 34,
   "id": "ee0b4cb2-fa37-4cbf-a251-bdf18f9b8c34",
   "metadata": {},
   "outputs": [],
   "source": [
    "#Question 14. Modify the Experience of employees with less than 2 years to 2. "
   ]
  },
  {
   "cell_type": "code",
   "execution_count": 35,
   "id": "7406a0be-3f39-4acb-a299-2257867768e9",
   "metadata": {},
   "outputs": [],
   "source": [
    "#df['Experience'] < 2 identifies rows where the Experience is less than 2.\n",
    "#df.loc[...] selects these rows, and the Experience column is updated to 2 for those rows."
   ]
  },
  {
   "cell_type": "code",
   "execution_count": 36,
   "id": "b351fc4f-b8af-44bc-a0f4-85230ef8ea39",
   "metadata": {},
   "outputs": [
    {
     "name": "stdout",
     "output_type": "stream",
     "text": [
      "   ID                Name  Age  Gender Department  Salary Joining Date  \\\n",
      "0   1        Cory Escobar   48  Female         HR  5641.0   2015-05-03   \n",
      "1   2     Timothy Sanchez   25   Other      Sales  4249.0   2020-11-09   \n",
      "2   3        Chad Nichols   57   Other      Sales  3058.0   2019-02-12   \n",
      "3   4  Christine Williams   58  Female         IT  5895.0   2017-09-08   \n",
      "4   5        Amber Harris   35   Other         IT  4317.0   2020-02-15   \n",
      "\n",
      "   Performance Score  Experience   Status     Location  Session  Bonus  \n",
      "0                2.0          16   Active     New York    Night  564.1  \n",
      "1                2.0          11  Retired  Los Angeles  Evening  424.9  \n",
      "2                NaN           2  Retired     New York  Morning  305.8  \n",
      "3                2.0          13  Retired  Los Angeles  Evening  589.5  \n",
      "4                5.0          16  Retired     New York  Evening  431.7  \n"
     ]
    }
   ],
   "source": [
    "# Update Experience to 2 for employees with less than 2 years\n",
    "df.loc[df['Experience'] < 2, 'Experience'] = 2\n",
    "\n",
    "# Check the updated DataFrame\n",
    "print(df.head())\n"
   ]
  },
  {
   "cell_type": "code",
   "execution_count": 37,
   "id": "f06a7d37-5062-4dc1-a3c6-24c566a34c70",
   "metadata": {},
   "outputs": [],
   "source": [
    "#Question 15. Normalize the Salary column so that all values are between 0 and 1. "
   ]
  },
  {
   "cell_type": "code",
   "execution_count": 38,
   "id": "a6a32a4e-a582-4f8a-a130-8ad8d96f6a1f",
   "metadata": {},
   "outputs": [],
   "source": [
    "#df['Salary'].min() gets the minimum value of the Salary column.\n",
    "#df['Salary'].max() gets the maximum value of the Salary column.\n",
    "#The formula (value - min) / (max - min) scales each value in the column to a range between 0 and 1."
   ]
  },
  {
   "cell_type": "code",
   "execution_count": 39,
   "id": "d9046280-1f70-4ba6-8133-b4ff4666d0dd",
   "metadata": {},
   "outputs": [
    {
     "name": "stdout",
     "output_type": "stream",
     "text": [
      "   Salary  Salary_Normalized\n",
      "0  5641.0           0.454500\n",
      "1  4249.0           0.280020\n",
      "2  3058.0           0.130735\n",
      "3  5895.0           0.486337\n",
      "4  4317.0           0.288543\n"
     ]
    }
   ],
   "source": [
    "# Normalize the Salary column\n",
    "df['Salary_Normalized'] = (df['Salary'] - df['Salary'].min()) / (df['Salary'].max() - df['Salary'].min())\n",
    "\n",
    "# Check the updated DataFrame\n",
    "print(df[['Salary', 'Salary_Normalized']].head())\n"
   ]
  },
  {
   "cell_type": "code",
   "execution_count": 40,
   "id": "dd5a08c4-c4ba-4747-bc3d-17b9edc6ff4c",
   "metadata": {},
   "outputs": [],
   "source": [
    "# Question 16. Replace all Location values with \"Remote\" for employees with a Performance Score below 3."
   ]
  },
  {
   "cell_type": "code",
   "execution_count": 41,
   "id": "ab8f493b-df0c-4d51-9b74-4f4ea21b878b",
   "metadata": {},
   "outputs": [
    {
     "name": "stdout",
     "output_type": "stream",
     "text": [
      "   Performance Score  Location\n",
      "0                2.0    Remote\n",
      "1                2.0    Remote\n",
      "2                NaN  New York\n",
      "3                2.0    Remote\n",
      "4                5.0  New York\n",
      "5                1.0    Remote\n",
      "6                NaN  New York\n",
      "7                NaN   Chicago\n",
      "8                NaN  New York\n",
      "9                1.0    Remote\n"
     ]
    }
   ],
   "source": [
    "# Replace Location with \"Remote\" for employees with Performance Score below 3\n",
    "df.loc[df['Performance Score'] < 3, 'Location'] = 'Remote'\n",
    "\n",
    "# Check the updated DataFrame\n",
    "print(df[['Performance Score', 'Location']].head(10))\n"
   ]
  },
  {
   "cell_type": "code",
   "execution_count": 42,
   "id": "64ff7b23-93a6-4069-8469-9bf3e67eacdd",
   "metadata": {},
   "outputs": [],
   "source": [
    "#Question 17. Create a new column Experience Level with values \"Junior\", \"Mid\", or \"Senior\" based on the Experience. "
   ]
  },
  {
   "cell_type": "code",
   "execution_count": 43,
   "id": "7da76b32-5990-46c8-9573-c15d2319d5da",
   "metadata": {},
   "outputs": [],
   "source": [
    "#pd.cut is used to segment and sort data values into bins.\n",
    "#bins=[0, 5, 10, float('inf')] creates three bins:\n",
    "#0 to less than 5: \"Junior\".\n",
    "#5 to less than 10: \"Mid\".\n",
    "#10 and above: \"Senior\".\n",
    "#right=False ensures that the intervals are left-closed (e.g., [0, 5) includes 0 but excludes 5).\n",
    "#The labels parameter assigns a corresponding label to each bin."
   ]
  },
  {
   "cell_type": "code",
   "execution_count": 44,
   "id": "69d60a56-63ef-46a9-a712-890a4ce01a32",
   "metadata": {},
   "outputs": [
    {
     "name": "stdout",
     "output_type": "stream",
     "text": [
      "   Experience Experience Level\n",
      "0          16           Senior\n",
      "1          11           Senior\n",
      "2           2           Junior\n",
      "3          13           Senior\n",
      "4          16           Senior\n",
      "5           6              Mid\n",
      "6           4           Junior\n",
      "7           8              Mid\n",
      "8           3           Junior\n",
      "9           9              Mid\n"
     ]
    }
   ],
   "source": [
    "# Create a new column 'Experience Level' based on the 'Experience' column\n",
    "df['Experience Level'] = pd.cut(\n",
    "    df['Experience'],\n",
    "    bins=[0, 5, 10, float('inf')],\n",
    "    labels=['Junior', 'Mid', 'Senior'],\n",
    "    right=False\n",
    ")\n",
    "\n",
    "# Display the first few rows to check the new column\n",
    "print(df[['Experience', 'Experience Level']].head(10))\n"
   ]
  },
  {
   "cell_type": "code",
   "execution_count": 45,
   "id": "c08ba507-e679-4c9b-8a0f-caab77cd4da4",
   "metadata": {},
   "outputs": [
    {
     "data": {
      "text/html": [
       "<div>\n",
       "<style scoped>\n",
       "    .dataframe tbody tr th:only-of-type {\n",
       "        vertical-align: middle;\n",
       "    }\n",
       "\n",
       "    .dataframe tbody tr th {\n",
       "        vertical-align: top;\n",
       "    }\n",
       "\n",
       "    .dataframe thead th {\n",
       "        text-align: right;\n",
       "    }\n",
       "</style>\n",
       "<table border=\"1\" class=\"dataframe\">\n",
       "  <thead>\n",
       "    <tr style=\"text-align: right;\">\n",
       "      <th></th>\n",
       "      <th>ID</th>\n",
       "      <th>Name</th>\n",
       "      <th>Age</th>\n",
       "      <th>Gender</th>\n",
       "      <th>Department</th>\n",
       "      <th>Salary</th>\n",
       "      <th>Joining Date</th>\n",
       "      <th>Performance Score</th>\n",
       "      <th>Experience</th>\n",
       "      <th>Status</th>\n",
       "      <th>Location</th>\n",
       "      <th>Session</th>\n",
       "      <th>Bonus</th>\n",
       "      <th>Salary_Normalized</th>\n",
       "      <th>Experience Level</th>\n",
       "    </tr>\n",
       "  </thead>\n",
       "  <tbody>\n",
       "    <tr>\n",
       "      <th>0</th>\n",
       "      <td>1</td>\n",
       "      <td>Cory Escobar</td>\n",
       "      <td>48</td>\n",
       "      <td>Female</td>\n",
       "      <td>HR</td>\n",
       "      <td>5641.0</td>\n",
       "      <td>2015-05-03</td>\n",
       "      <td>2.0</td>\n",
       "      <td>16</td>\n",
       "      <td>Active</td>\n",
       "      <td>Remote</td>\n",
       "      <td>Night</td>\n",
       "      <td>564.1</td>\n",
       "      <td>0.454500</td>\n",
       "      <td>Senior</td>\n",
       "    </tr>\n",
       "    <tr>\n",
       "      <th>1</th>\n",
       "      <td>2</td>\n",
       "      <td>Timothy Sanchez</td>\n",
       "      <td>25</td>\n",
       "      <td>Other</td>\n",
       "      <td>Sales</td>\n",
       "      <td>4249.0</td>\n",
       "      <td>2020-11-09</td>\n",
       "      <td>2.0</td>\n",
       "      <td>11</td>\n",
       "      <td>Retired</td>\n",
       "      <td>Remote</td>\n",
       "      <td>Evening</td>\n",
       "      <td>424.9</td>\n",
       "      <td>0.280020</td>\n",
       "      <td>Senior</td>\n",
       "    </tr>\n",
       "    <tr>\n",
       "      <th>2</th>\n",
       "      <td>3</td>\n",
       "      <td>Chad Nichols</td>\n",
       "      <td>57</td>\n",
       "      <td>Other</td>\n",
       "      <td>Sales</td>\n",
       "      <td>3058.0</td>\n",
       "      <td>2019-02-12</td>\n",
       "      <td>NaN</td>\n",
       "      <td>2</td>\n",
       "      <td>Retired</td>\n",
       "      <td>New York</td>\n",
       "      <td>Morning</td>\n",
       "      <td>305.8</td>\n",
       "      <td>0.130735</td>\n",
       "      <td>Junior</td>\n",
       "    </tr>\n",
       "    <tr>\n",
       "      <th>3</th>\n",
       "      <td>4</td>\n",
       "      <td>Christine Williams</td>\n",
       "      <td>58</td>\n",
       "      <td>Female</td>\n",
       "      <td>IT</td>\n",
       "      <td>5895.0</td>\n",
       "      <td>2017-09-08</td>\n",
       "      <td>2.0</td>\n",
       "      <td>13</td>\n",
       "      <td>Retired</td>\n",
       "      <td>Remote</td>\n",
       "      <td>Evening</td>\n",
       "      <td>589.5</td>\n",
       "      <td>0.486337</td>\n",
       "      <td>Senior</td>\n",
       "    </tr>\n",
       "    <tr>\n",
       "      <th>4</th>\n",
       "      <td>5</td>\n",
       "      <td>Amber Harris</td>\n",
       "      <td>35</td>\n",
       "      <td>Other</td>\n",
       "      <td>IT</td>\n",
       "      <td>4317.0</td>\n",
       "      <td>2020-02-15</td>\n",
       "      <td>5.0</td>\n",
       "      <td>16</td>\n",
       "      <td>Retired</td>\n",
       "      <td>New York</td>\n",
       "      <td>Evening</td>\n",
       "      <td>431.7</td>\n",
       "      <td>0.288543</td>\n",
       "      <td>Senior</td>\n",
       "    </tr>\n",
       "  </tbody>\n",
       "</table>\n",
       "</div>"
      ],
      "text/plain": [
       "   ID                Name  Age  Gender Department  Salary Joining Date  \\\n",
       "0   1        Cory Escobar   48  Female         HR  5641.0   2015-05-03   \n",
       "1   2     Timothy Sanchez   25   Other      Sales  4249.0   2020-11-09   \n",
       "2   3        Chad Nichols   57   Other      Sales  3058.0   2019-02-12   \n",
       "3   4  Christine Williams   58  Female         IT  5895.0   2017-09-08   \n",
       "4   5        Amber Harris   35   Other         IT  4317.0   2020-02-15   \n",
       "\n",
       "   Performance Score  Experience   Status  Location  Session  Bonus  \\\n",
       "0                2.0          16   Active    Remote    Night  564.1   \n",
       "1                2.0          11  Retired    Remote  Evening  424.9   \n",
       "2                NaN           2  Retired  New York  Morning  305.8   \n",
       "3                2.0          13  Retired    Remote  Evening  589.5   \n",
       "4                5.0          16  Retired  New York  Evening  431.7   \n",
       "\n",
       "   Salary_Normalized Experience Level  \n",
       "0           0.454500           Senior  \n",
       "1           0.280020           Senior  \n",
       "2           0.130735           Junior  \n",
       "3           0.486337           Senior  \n",
       "4           0.288543           Senior  "
      ]
     },
     "execution_count": 45,
     "metadata": {},
     "output_type": "execute_result"
    }
   ],
   "source": [
    "df['Experience Level']=pd.cut(df['Experience'],bins=[0,5,10,float('inf')],labels=['Junior','Mid','Senior'])\n",
    "df.head()"
   ]
  },
  {
   "cell_type": "code",
   "execution_count": 46,
   "id": "7354b6d2-48a9-46dd-8efc-6bd19db17661",
   "metadata": {},
   "outputs": [],
   "source": [
    "#Question 18. Add a new row with specific values using the append() method."
   ]
  },
  {
   "cell_type": "code",
   "execution_count": 47,
   "id": "9ad31c6c-746b-4b7b-b9e8-48be3d48eb83",
   "metadata": {},
   "outputs": [
    {
     "name": "stdout",
     "output_type": "stream",
     "text": [
      "        ID             Name  Age  Gender Department  Salary  \\\n",
      "996    997     Todd Johnson   29  Female      Sales  6754.0   \n",
      "997    998  Michael Sanchez   18    Male      Sales  5278.0   \n",
      "998    999    Ashley Taylor   51  Female         IT  5437.0   \n",
      "999   1000      Shawn Scott   45    Male         IT  7364.0   \n",
      "1000  1001         John Doe   30    Male         HR  5000.0   \n",
      "\n",
      "             Joining Date  Performance Score  Experience   Status  \\\n",
      "996   2018-07-20 00:00:00                NaN          12  Retired   \n",
      "997   2023-07-05 00:00:00                5.0           3   Active   \n",
      "998   2022-02-18 00:00:00                4.0           9  Retired   \n",
      "999   2022-07-31 00:00:00                2.0           4   Active   \n",
      "1000           2022-01-15                3.0           3   Active   \n",
      "\n",
      "         Location  Session  Bonus  Salary_Normalized Experience Level  \n",
      "996      New York  Morning  675.4           0.594009           Senior  \n",
      "997      New York  Morning  527.8           0.409000           Junior  \n",
      "998   Los Angeles  Evening  543.7           0.428930              Mid  \n",
      "999        Remote  Morning  736.4           0.670469           Junior  \n",
      "1000       Remote  Morning  500.0                NaN              Mid  \n"
     ]
    }
   ],
   "source": [
    "# Define a dictionary with the values for the new row\n",
    "new_row = {\n",
    "    'ID': 1001,\n",
    "    'Name': 'John Doe',\n",
    "    'Age': 30,\n",
    "    'Gender': 'Male',\n",
    "    'Department': 'HR',\n",
    "    'Salary': 5000,\n",
    "    'Joining Date': '2022-01-15',\n",
    "    'Performance Score': 3.0,\n",
    "    'Experience': 3,\n",
    "    'Status': 'Active',\n",
    "    'Location': 'Remote',\n",
    "    'Session': 'Morning',\n",
    "    'Bonus': 500,  # Assuming 10% of salary\n",
    "    'Experience Level': 'Mid'\n",
    "}\n",
    "\n",
    "# Convert the dictionary to a DataFrame\n",
    "new_row_df = pd.DataFrame([new_row])\n",
    "\n",
    "# Concatenate the new row to the existing DataFrame\n",
    "df = pd.concat([df, new_row_df], ignore_index=True)\n",
    "\n",
    "# Display the last few rows to verify the addition\n",
    "print(df.tail())\n"
   ]
  },
  {
   "cell_type": "code",
   "execution_count": 48,
   "id": "0b6b9875-b7e1-4ef8-aedb-33a625f9ceba",
   "metadata": {},
   "outputs": [],
   "source": [
    "#Question 19. Delete the column Session from the DataFrame."
   ]
  },
  {
   "cell_type": "code",
   "execution_count": 49,
   "id": "9395892c-c0c1-4f2d-be39-cebb673653b9",
   "metadata": {},
   "outputs": [
    {
     "name": "stdout",
     "output_type": "stream",
     "text": [
      "   ID                Name  Age  Gender Department  Salary  \\\n",
      "0   1        Cory Escobar   48  Female         HR  5641.0   \n",
      "1   2     Timothy Sanchez   25   Other      Sales  4249.0   \n",
      "2   3        Chad Nichols   57   Other      Sales  3058.0   \n",
      "3   4  Christine Williams   58  Female         IT  5895.0   \n",
      "4   5        Amber Harris   35   Other         IT  4317.0   \n",
      "\n",
      "          Joining Date  Performance Score  Experience   Status  Location  \\\n",
      "0  2015-05-03 00:00:00                2.0          16   Active    Remote   \n",
      "1  2020-11-09 00:00:00                2.0          11  Retired    Remote   \n",
      "2  2019-02-12 00:00:00                NaN           2  Retired  New York   \n",
      "3  2017-09-08 00:00:00                2.0          13  Retired    Remote   \n",
      "4  2020-02-15 00:00:00                5.0          16  Retired  New York   \n",
      "\n",
      "   Bonus  Salary_Normalized Experience Level  \n",
      "0  564.1           0.454500           Senior  \n",
      "1  424.9           0.280020           Senior  \n",
      "2  305.8           0.130735           Junior  \n",
      "3  589.5           0.486337           Senior  \n",
      "4  431.7           0.288543           Senior  \n"
     ]
    }
   ],
   "source": [
    "# Delete the \"Session\" column\n",
    "df = df.drop(columns=['Session'])\n",
    "\n",
    "# Display the updated DataFrame\n",
    "print(df.head())\n"
   ]
  },
  {
   "cell_type": "code",
   "execution_count": 50,
   "id": "abd9aedd-8bfc-42b7-8d63-e5896753058c",
   "metadata": {},
   "outputs": [],
   "source": [
    "#Question 20. Delete rows where the Age is greater than 60. "
   ]
  },
  {
   "cell_type": "code",
   "execution_count": 51,
   "id": "3ef02cb7-f903-4ac6-a308-4b6aeec99ad7",
   "metadata": {},
   "outputs": [
    {
     "name": "stdout",
     "output_type": "stream",
     "text": [
      "   ID                Name  Age  Gender Department  Salary  \\\n",
      "0   1        Cory Escobar   48  Female         HR  5641.0   \n",
      "1   2     Timothy Sanchez   25   Other      Sales  4249.0   \n",
      "2   3        Chad Nichols   57   Other      Sales  3058.0   \n",
      "3   4  Christine Williams   58  Female         IT  5895.0   \n",
      "4   5        Amber Harris   35   Other         IT  4317.0   \n",
      "\n",
      "          Joining Date  Performance Score  Experience   Status  Location  \\\n",
      "0  2015-05-03 00:00:00                2.0          16   Active    Remote   \n",
      "1  2020-11-09 00:00:00                2.0          11  Retired    Remote   \n",
      "2  2019-02-12 00:00:00                NaN           2  Retired  New York   \n",
      "3  2017-09-08 00:00:00                2.0          13  Retired    Remote   \n",
      "4  2020-02-15 00:00:00                5.0          16  Retired  New York   \n",
      "\n",
      "   Bonus  Salary_Normalized Experience Level  \n",
      "0  564.1           0.454500           Senior  \n",
      "1  424.9           0.280020           Senior  \n",
      "2  305.8           0.130735           Junior  \n",
      "3  589.5           0.486337           Senior  \n",
      "4  431.7           0.288543           Senior  \n"
     ]
    }
   ],
   "source": [
    "# Delete rows where Age is greater than 60\n",
    "df = df[df['Age'] <= 60]\n",
    "\n",
    "#Display the updated DataFrame\n",
    "print(df.head())\n"
   ]
  },
  {
   "cell_type": "code",
   "execution_count": 52,
   "id": "589487c4-768f-4b8a-a463-e5ac557c3349",
   "metadata": {},
   "outputs": [],
   "source": [
    "#Question 21. Add a new column Age Group with values \"Young\", \"Middle-aged\", or \"Senior\" based on Age. "
   ]
  },
  {
   "cell_type": "code",
   "execution_count": 53,
   "id": "7efa5426-e33b-4b76-bdd7-482a9f62a081",
   "metadata": {},
   "outputs": [
    {
     "name": "stdout",
     "output_type": "stream",
     "text": [
      "   Age    Age Group\n",
      "0   48  Middle-aged\n",
      "1   25        Young\n",
      "2   57       Senior\n",
      "3   58       Senior\n",
      "4   35  Middle-aged\n"
     ]
    }
   ],
   "source": [
    "# Define the Age Group based on Age\n",
    "def age_group(age):\n",
    "    if age < 30:\n",
    "        return 'Young'\n",
    "    elif 30 <= age <= 50:\n",
    "        return 'Middle-aged'\n",
    "    else:\n",
    "        return 'Senior'\n",
    "\n",
    "# Add the new Age Group column\n",
    "df['Age Group'] = df['Age'].apply(age_group)\n",
    "\n",
    "# Display the updated DataFrame\n",
    "print(df[['Age', 'Age Group']].head())\n"
   ]
  },
  {
   "cell_type": "code",
   "execution_count": 54,
   "id": "801bb93d-6dfc-4278-829c-931f56683193",
   "metadata": {},
   "outputs": [],
   "source": [
    "#Question 22. Identify all columns with missing values using the isna() method. "
   ]
  },
  {
   "cell_type": "code",
   "execution_count": 55,
   "id": "1714f6c9-00f1-4854-a75c-def21cc520f8",
   "metadata": {},
   "outputs": [
    {
     "name": "stdout",
     "output_type": "stream",
     "text": [
      "Performance Score    291\n",
      "Salary_Normalized      1\n",
      "dtype: int64\n"
     ]
    }
   ],
   "source": [
    "# Identify columns with missing values\n",
    "missing_values = df.isna().sum()\n",
    "\n",
    "# Display columns with missing values\n",
    "print(missing_values[missing_values > 0])\n"
   ]
  },
  {
   "cell_type": "code",
   "execution_count": 56,
   "id": "9a409127-6fd4-43a7-aa54-211432dc64f7",
   "metadata": {},
   "outputs": [],
   "source": [
    "#Question 23 Fill the missing values in Performance Score with the average score of that column. "
   ]
  },
  {
   "cell_type": "code",
   "execution_count": 57,
   "id": "3d5ec472-ae8c-4ee9-b778-f65413a6195f",
   "metadata": {},
   "outputs": [],
   "source": [
    "#This will replace any NaN values in the Performance Score column with the mean of that column."
   ]
  },
  {
   "cell_type": "code",
   "execution_count": 58,
   "id": "5b303bdc-3ebf-4fef-95a1-a3043a53e740",
   "metadata": {},
   "outputs": [
    {
     "name": "stdout",
     "output_type": "stream",
     "text": [
      "   ID                Name  Age  Gender Department  Salary  \\\n",
      "0   1        Cory Escobar   48  Female         HR  5641.0   \n",
      "1   2     Timothy Sanchez   25   Other      Sales  4249.0   \n",
      "2   3        Chad Nichols   57   Other      Sales  3058.0   \n",
      "3   4  Christine Williams   58  Female         IT  5895.0   \n",
      "4   5        Amber Harris   35   Other         IT  4317.0   \n",
      "\n",
      "          Joining Date  Performance Score  Experience   Status  Location  \\\n",
      "0  2015-05-03 00:00:00           2.000000          16   Active    Remote   \n",
      "1  2020-11-09 00:00:00           2.000000          11  Retired    Remote   \n",
      "2  2019-02-12 00:00:00           3.441128           2  Retired  New York   \n",
      "3  2017-09-08 00:00:00           2.000000          13  Retired    Remote   \n",
      "4  2020-02-15 00:00:00           5.000000          16  Retired  New York   \n",
      "\n",
      "   Bonus  Salary_Normalized Experience Level    Age Group  \n",
      "0  564.1           0.454500           Senior  Middle-aged  \n",
      "1  424.9           0.280020           Senior        Young  \n",
      "2  305.8           0.130735           Junior       Senior  \n",
      "3  589.5           0.486337           Senior       Senior  \n",
      "4  431.7           0.288543           Senior  Middle-aged  \n"
     ]
    }
   ],
   "source": [
    "# Fill missing values in Performance Score with the average of the column\n",
    "df['Performance Score'] = df['Performance Score'].fillna(df['Performance Score'].mean())\n",
    "\n",
    "# Display the first few rows to verify the change\n",
    "print(df.head())\n"
   ]
  },
  {
   "cell_type": "markdown",
   "id": "69eed739-186a-40b8-a2be-a12c72fcddc7",
   "metadata": {},
   "source": [
    "Then we have to check if the missing values are replace"
   ]
  },
  {
   "cell_type": "code",
   "execution_count": 59,
   "id": "9ecaca69-6479-4bd0-9ca6-52d993931726",
   "metadata": {},
   "outputs": [
    {
     "name": "stdout",
     "output_type": "stream",
     "text": [
      "Missing values in each column:\n",
      "ID                   0\n",
      "Name                 0\n",
      "Age                  0\n",
      "Gender               0\n",
      "Department           0\n",
      "Salary               0\n",
      "Joining Date         0\n",
      "Performance Score    0\n",
      "Experience           0\n",
      "Status               0\n",
      "Location             0\n",
      "Bonus                0\n",
      "Salary_Normalized    1\n",
      "Experience Level     0\n",
      "Age Group            0\n",
      "dtype: int64\n",
      "\n",
      "Missing values in 'Performance Score' column: 0\n"
     ]
    }
   ],
   "source": [
    "# Check if there are any missing values in the entire DataFrame\n",
    "missing_values = df.isna().sum()\n",
    "\n",
    "# Print the missing values for each column\n",
    "print(\"Missing values in each column:\")\n",
    "print(missing_values)\n",
    "\n",
    "# Check specifically for the 'Performance Score' column\n",
    "missing_in_performance = df['Performance Score'].isna().sum()\n",
    "\n",
    "print(f\"\\nMissing values in 'Performance Score' column: {missing_in_performance}\")\n"
   ]
  },
  {
   "cell_type": "code",
   "execution_count": 60,
   "id": "68aa068e-9144-456b-837c-190fce66383a",
   "metadata": {},
   "outputs": [],
   "source": [
    "#Question 24. Drop all rows with missing values using the dropna() method. "
   ]
  },
  {
   "cell_type": "code",
   "execution_count": 61,
   "id": "33c4f63c-6b31-4aa1-beaf-be1dce8a0eba",
   "metadata": {},
   "outputs": [
    {
     "name": "stdout",
     "output_type": "stream",
     "text": [
      "   ID                Name  Age  Gender Department  Salary  \\\n",
      "0   1        Cory Escobar   48  Female         HR  5641.0   \n",
      "1   2     Timothy Sanchez   25   Other      Sales  4249.0   \n",
      "2   3        Chad Nichols   57   Other      Sales  3058.0   \n",
      "3   4  Christine Williams   58  Female         IT  5895.0   \n",
      "4   5        Amber Harris   35   Other         IT  4317.0   \n",
      "\n",
      "          Joining Date  Performance Score  Experience   Status  Location  \\\n",
      "0  2015-05-03 00:00:00           2.000000          16   Active    Remote   \n",
      "1  2020-11-09 00:00:00           2.000000          11  Retired    Remote   \n",
      "2  2019-02-12 00:00:00           3.441128           2  Retired  New York   \n",
      "3  2017-09-08 00:00:00           2.000000          13  Retired    Remote   \n",
      "4  2020-02-15 00:00:00           5.000000          16  Retired  New York   \n",
      "\n",
      "   Bonus  Salary_Normalized Experience Level    Age Group  \n",
      "0  564.1           0.454500           Senior  Middle-aged  \n",
      "1  424.9           0.280020           Senior        Young  \n",
      "2  305.8           0.130735           Junior       Senior  \n",
      "3  589.5           0.486337           Senior       Senior  \n",
      "4  431.7           0.288543           Senior  Middle-aged  \n"
     ]
    }
   ],
   "source": [
    "# Drop all rows with any missing values\n",
    "df_cleaned = df.dropna()\n",
    "\n",
    "# Display the first few rows of the cleaned DataFrame\n",
    "print(df_cleaned.head())\n"
   ]
  },
  {
   "cell_type": "code",
   "execution_count": 62,
   "id": "c0ce65e7-93bd-45e7-857c-69d08ebb3a92",
   "metadata": {},
   "outputs": [],
   "source": [
    "# Question 25. Replace missing values in Performance Score with the median of the scores, grouped by Department. "
   ]
  },
  {
   "cell_type": "markdown",
   "id": "4272a46b-1388-4099-a5d3-7d6ea10a62f7",
   "metadata": {},
   "source": [
    "groupby('Department'): Groups the data by the Department column.\n",
    "transform(lambda x: x.fillna(x.median())): Computes the median of the Performance Score within each department and fills missing values with the computed median.\n",
    "Updates the Performance Score column directly."
   ]
  },
  {
   "cell_type": "code",
   "execution_count": 63,
   "id": "6b34629a-f3a9-4dfd-b429-8d1190018ee4",
   "metadata": {},
   "outputs": [
    {
     "name": "stdout",
     "output_type": "stream",
     "text": [
      "    ID                  Name  Age  Gender Department  Salary  \\\n",
      "0    1          Cory Escobar   48  Female         HR  5641.0   \n",
      "1    2       Timothy Sanchez   25   Other      Sales  4249.0   \n",
      "2    3          Chad Nichols   57   Other      Sales  3058.0   \n",
      "3    4    Christine Williams   58  Female         IT  5895.0   \n",
      "4    5          Amber Harris   35   Other         IT  4317.0   \n",
      "5    6           Ashley Howe   29  Female         HR  2591.0   \n",
      "6    7           David Olson   39  Female      Sales  6826.0   \n",
      "7    8          Amanda Baker   52   Other         HR  6285.0   \n",
      "9   10        Brian Faulkner   30    Male         IT  8202.0   \n",
      "10  11           Nicole Bell   42  Female      Sales  5336.0   \n",
      "11  12     Rodney Richardson   60   Other         HR  6908.0   \n",
      "13  14     Benjamin Callahan   34    Male         IT  5593.0   \n",
      "14  15    Matthew Collins MD   31  Female      Sales  8568.0   \n",
      "16  17        Jonathan Perez   59    Male         HR  6586.0   \n",
      "17  18    Jacqueline Randall   31  Female         HR  3519.0   \n",
      "18  19        Nancy Stephens   38    Male         HR  9061.0   \n",
      "19  20          Victoria Fox   57  Female         HR  7251.0   \n",
      "20  21         Heather Jones   35    Male      Sales  4565.0   \n",
      "22  23          Bryce Carter   35  Female      Sales  9598.0   \n",
      "23  24       Marissa Stewart   31  Female         HR  5386.0   \n",
      "24  25         Tracy Carlson   21    Male         HR  9275.0   \n",
      "25  26        Tara Blackwell   30   Other         HR  6120.0   \n",
      "26  27           Austin Long   20  Female         IT  4899.0   \n",
      "27  28         Jordan Warren   55  Female         HR  4608.0   \n",
      "29  30         Rachel Ramsey   22    Male      Sales  9661.0   \n",
      "30  31          Brandi Smith   21   Other         IT  4780.0   \n",
      "33  34      Mr. Brian Nelson   42  Female         IT  5207.0   \n",
      "34  35              Lisa Fry   51  Female         IT  9259.0   \n",
      "35  36           Kevin Watts   35    Male         IT  9078.0   \n",
      "36  37      Jacqueline Moore   39    Male      Sales  2364.0   \n",
      "37  38         Lawrence Rose   18  Female         HR  2904.0   \n",
      "38  39          Jordan Scott   33   Other      Sales  8678.0   \n",
      "39  40           Lisa Wagner   36    Male         HR  8870.0   \n",
      "40  41           Ricky Keith   20  Female      Sales  6621.0   \n",
      "41  42        Charles Mccall   58   Other         IT  9512.0   \n",
      "42  43           April Ponce   27  Female      Sales  6655.0   \n",
      "44  45        Daniel Aguirre   20   Other         IT  4184.0   \n",
      "45  46  Dr. Monica Hanna PhD   27   Other         HR  4356.0   \n",
      "46  47          Alicia Scott   47  Female         HR  7966.0   \n",
      "47  48          Jake Johnson   48   Other         IT  5848.0   \n",
      "48  49            Jamie Wood   46    Male      Sales  2773.0   \n",
      "49  50      Valerie Guerrero   23    Male         HR  6253.0   \n",
      "50  51         Jamie Gregory   27   Other      Sales  3253.0   \n",
      "52  53         Steve Salinas   42   Other      Sales  6567.0   \n",
      "55  56        Jonathon Adams   40  Female         IT  8745.0   \n",
      "56  57         Jeremy Conway   38   Other         IT  4954.0   \n",
      "57  58      Johnathan Obrien   58  Female      Sales  3635.0   \n",
      "58  59             Erik Moss   57    Male      Sales  4651.0   \n",
      "59  60         Melinda Tyler   19   Other      Sales  5937.0   \n",
      "60  61        Andrew Shannon   51   Other      Sales  8544.0   \n",
      "\n",
      "           Joining Date  Performance Score  Experience   Status     Location  \\\n",
      "0   2015-05-03 00:00:00           2.000000          16   Active       Remote   \n",
      "1   2020-11-09 00:00:00           2.000000          11  Retired       Remote   \n",
      "2   2019-02-12 00:00:00           3.441128           2  Retired     New York   \n",
      "3   2017-09-08 00:00:00           2.000000          13  Retired       Remote   \n",
      "4   2020-02-15 00:00:00           5.000000          16  Retired     New York   \n",
      "5   2016-06-24 00:00:00           1.000000           6   Active       Remote   \n",
      "6   2023-05-11 00:00:00           3.441128           4   Active     New York   \n",
      "7   2015-04-01 00:00:00           3.441128           8  Retired      Chicago   \n",
      "9   2018-05-26 00:00:00           1.000000           9   Active       Remote   \n",
      "10  2015-01-28 00:00:00           3.000000           7   Active  Los Angeles   \n",
      "11  2015-03-14 00:00:00           4.000000          19   Active      Chicago   \n",
      "13  2019-06-23 00:00:00           5.000000           2  Retired  Los Angeles   \n",
      "14  2020-06-01 00:00:00           3.441128          20  Retired  Los Angeles   \n",
      "16  2019-02-19 00:00:00           3.000000           7  Retired  Los Angeles   \n",
      "17  2018-05-18 00:00:00           4.000000           6   Active     New York   \n",
      "18  2017-07-16 00:00:00           5.000000          16  Retired      Chicago   \n",
      "19  2023-06-07 00:00:00           3.441128          10   Active  Los Angeles   \n",
      "20  2018-02-07 00:00:00           3.441128           9   Active      Chicago   \n",
      "22  2015-12-16 00:00:00           4.000000           4  Retired     New York   \n",
      "23  2021-01-30 00:00:00           3.441128           3   Active  Los Angeles   \n",
      "24  2022-04-09 00:00:00           4.000000          12   Active     New York   \n",
      "25  2020-02-20 00:00:00           5.000000           7   Active     New York   \n",
      "26  2024-05-01 00:00:00           5.000000           8  Retired      Chicago   \n",
      "27  2018-07-07 00:00:00           3.441128          18  Retired  Los Angeles   \n",
      "29  2016-08-18 00:00:00           2.000000          17  Retired       Remote   \n",
      "30  2020-01-20 00:00:00           1.000000           7  Retired       Remote   \n",
      "33  2017-08-17 00:00:00           1.000000           4   Active       Remote   \n",
      "34  2017-09-26 00:00:00           4.000000          17  Retired  Los Angeles   \n",
      "35  2019-06-12 00:00:00           1.000000           7  Retired       Remote   \n",
      "36  2018-02-25 00:00:00           1.000000          15   Active       Remote   \n",
      "37  2021-04-11 00:00:00           1.000000          17  Retired       Remote   \n",
      "38  2016-05-15 00:00:00           5.000000           9   Active  Los Angeles   \n",
      "39  2024-08-12 00:00:00           4.000000          17   Active  Los Angeles   \n",
      "40  2024-01-29 00:00:00           3.441128          20  Retired  Los Angeles   \n",
      "41  2024-11-10 00:00:00           5.000000           8  Retired  Los Angeles   \n",
      "42  2021-10-22 00:00:00           3.441128           2  Retired  Los Angeles   \n",
      "44  2017-10-03 00:00:00           5.000000          13   Active     New York   \n",
      "45  2020-10-31 00:00:00           3.441128          11  Retired     New York   \n",
      "46  2019-09-03 00:00:00           3.441128           8  Retired     New York   \n",
      "47  2017-02-03 00:00:00           3.000000           2   Active  Los Angeles   \n",
      "48  2023-02-25 00:00:00           4.000000           9   Active     New York   \n",
      "49  2023-09-21 00:00:00           4.000000          14   Active  Los Angeles   \n",
      "50  2015-12-07 00:00:00           3.441128          12   Active      Chicago   \n",
      "52  2022-03-26 00:00:00           2.000000          19  Retired       Remote   \n",
      "55  2020-07-29 00:00:00           5.000000          12  Retired      Chicago   \n",
      "56  2024-08-11 00:00:00           5.000000          12   Active  Los Angeles   \n",
      "57  2021-04-09 00:00:00           3.441128           7   Active     New York   \n",
      "58  2018-02-07 00:00:00           3.441128          19   Active  Los Angeles   \n",
      "59  2021-04-12 00:00:00           5.000000           9  Retired  Los Angeles   \n",
      "60  2020-02-08 00:00:00           3.441128           6   Active     New York   \n",
      "\n",
      "    Bonus  Salary_Normalized Experience Level    Age Group  \n",
      "0   564.1           0.454500           Senior  Middle-aged  \n",
      "1   424.9           0.280020           Senior        Young  \n",
      "2   305.8           0.130735           Junior       Senior  \n",
      "3   589.5           0.486337           Senior       Senior  \n",
      "4   431.7           0.288543           Senior  Middle-aged  \n",
      "5   259.1           0.072199              Mid        Young  \n",
      "6   682.6           0.603033           Junior  Middle-aged  \n",
      "7   628.5           0.535222              Mid       Senior  \n",
      "9   820.2           0.775508              Mid  Middle-aged  \n",
      "10  533.6           0.416270              Mid  Middle-aged  \n",
      "11  690.8           0.613312           Senior       Senior  \n",
      "13  559.3           0.448483           Junior  Middle-aged  \n",
      "14  856.8           0.821384           Senior  Middle-aged  \n",
      "16  658.6           0.572951              Mid       Senior  \n",
      "17  351.9           0.188518              Mid  Middle-aged  \n",
      "18  906.1           0.883179           Senior  Middle-aged  \n",
      "19  725.1           0.656305              Mid       Senior  \n",
      "20  456.5           0.319629              Mid  Middle-aged  \n",
      "22  959.8           0.950489           Junior  Middle-aged  \n",
      "23  538.6           0.422537           Junior  Middle-aged  \n",
      "24  927.5           0.910003           Senior        Young  \n",
      "25  612.0           0.514540              Mid  Middle-aged  \n",
      "26  489.9           0.361494              Mid        Young  \n",
      "27  460.8           0.325019           Senior       Senior  \n",
      "29  966.1           0.958386           Senior        Young  \n",
      "30  478.0           0.346578              Mid        Young  \n",
      "33  520.7           0.400100           Junior  Middle-aged  \n",
      "34  925.9           0.907997           Senior       Senior  \n",
      "35  907.8           0.885310              Mid  Middle-aged  \n",
      "36  236.4           0.043745           Senior  Middle-aged  \n",
      "37  290.4           0.111431           Senior        Young  \n",
      "38  867.8           0.835172              Mid  Middle-aged  \n",
      "39  887.0           0.859238           Senior  Middle-aged  \n",
      "40  662.1           0.577338           Senior        Young  \n",
      "41  951.2           0.939709              Mid       Senior  \n",
      "42  665.5           0.581599           Junior        Young  \n",
      "44  418.4           0.271873           Senior        Young  \n",
      "45  435.6           0.293432           Senior        Young  \n",
      "46  796.6           0.745926              Mid  Middle-aged  \n",
      "47  584.8           0.480446           Junior  Middle-aged  \n",
      "48  277.3           0.095011              Mid  Middle-aged  \n",
      "49  625.3           0.531211           Senior        Young  \n",
      "50  325.3           0.155177           Senior        Young  \n",
      "52  656.7           0.570569           Senior  Middle-aged  \n",
      "55  874.5           0.843570           Senior  Middle-aged  \n",
      "56  495.4           0.368388           Senior  Middle-aged  \n",
      "57  363.5           0.203058              Mid       Senior  \n",
      "58  465.1           0.330409           Senior       Senior  \n",
      "59  593.7           0.491602              Mid        Young  \n",
      "60  854.4           0.818376              Mid       Senior  \n"
     ]
    }
   ],
   "source": [
    "# Replace missing values in 'Performance Score' with the median of the scores grouped by 'Department'\n",
    "df['Performance Score'] = df.groupby('Department')['Performance Score'].transform(\n",
    "    lambda x: x.fillna(x.median())\n",
    ")\n",
    "\n",
    "# Display the updated DataFrame\n",
    "print(df.head(50))\n"
   ]
  },
  {
   "cell_type": "code",
   "execution_count": 64,
   "id": "b6aa1875-acda-4cbd-bcaf-01fec0bf77f3",
   "metadata": {},
   "outputs": [
    {
     "name": "stdout",
     "output_type": "stream",
     "text": [
      "All missing values in 'Performance Score' have been replaced.\n"
     ]
    }
   ],
   "source": [
    "# Check if there are any missing values left in 'Performance Score'\n",
    "missing_values_count = df['Performance Score'].isna().sum()\n",
    "\n",
    "if missing_values_count == 0:\n",
    "    print(\"All missing values in 'Performance Score' have been replaced.\")\n",
    "else:\n",
    "    print(f\"There are still {missing_values_count} missing values in 'Performance Score'.\")\n"
   ]
  },
  {
   "cell_type": "code",
   "execution_count": 65,
   "id": "a8c33028-f8dd-4b58-a518-2166d229a055",
   "metadata": {},
   "outputs": [],
   "source": [
    "# Question 26. Identify rows where the employee is in the \"IT\" department and their Age is above the average Age of \"IT\" employees "
   ]
  },
  {
   "cell_type": "code",
   "execution_count": 66,
   "id": "30cffd8b-6bf2-4608-8fac-b02de911246f",
   "metadata": {},
   "outputs": [
    {
     "name": "stdout",
     "output_type": "stream",
     "text": [
      "       ID                Name  Age  Gender Department  Salary  \\\n",
      "3       4  Christine Williams   58  Female         IT  5895.0   \n",
      "33     34    Mr. Brian Nelson   42  Female         IT  5207.0   \n",
      "34     35            Lisa Fry   51  Female         IT  9259.0   \n",
      "41     42      Charles Mccall   58   Other         IT  9512.0   \n",
      "47     48        Jake Johnson   48   Other         IT  5848.0   \n",
      "..    ...                 ...  ...     ...        ...     ...   \n",
      "979   980    Crystal Espinoza   55  Female         IT  4952.0   \n",
      "984   985        Jeffrey Hall   41   Other         IT  8768.0   \n",
      "986   987     Melissa Bradley   39  Female         IT  9618.0   \n",
      "998   999       Ashley Taylor   51  Female         IT  5437.0   \n",
      "999  1000         Shawn Scott   45    Male         IT  7364.0   \n",
      "\n",
      "            Joining Date  Performance Score  Experience   Status     Location  \\\n",
      "3    2017-09-08 00:00:00                2.0          13  Retired       Remote   \n",
      "33   2017-08-17 00:00:00                1.0           4   Active       Remote   \n",
      "34   2017-09-26 00:00:00                4.0          17  Retired  Los Angeles   \n",
      "41   2024-11-10 00:00:00                5.0           8  Retired  Los Angeles   \n",
      "47   2017-02-03 00:00:00                3.0           2   Active  Los Angeles   \n",
      "..                   ...                ...         ...      ...          ...   \n",
      "979  2023-09-04 00:00:00                2.0           5   Active       Remote   \n",
      "984  2018-08-27 00:00:00                3.0          16  Retired  Los Angeles   \n",
      "986  2015-07-05 00:00:00                1.0          13   Active       Remote   \n",
      "998  2022-02-18 00:00:00                4.0           9  Retired  Los Angeles   \n",
      "999  2022-07-31 00:00:00                2.0           4   Active       Remote   \n",
      "\n",
      "     Bonus  Salary_Normalized Experience Level    Age Group  \n",
      "3    589.5           0.486337           Senior       Senior  \n",
      "33   520.7           0.400100           Junior  Middle-aged  \n",
      "34   925.9           0.907997           Senior       Senior  \n",
      "41   951.2           0.939709              Mid       Senior  \n",
      "47   584.8           0.480446           Junior  Middle-aged  \n",
      "..     ...                ...              ...          ...  \n",
      "979  495.2           0.368137           Junior       Senior  \n",
      "984  876.8           0.846453           Senior  Middle-aged  \n",
      "986  961.8           0.952996           Senior  Middle-aged  \n",
      "998  543.7           0.428930              Mid       Senior  \n",
      "999  736.4           0.670469           Junior  Middle-aged  \n",
      "\n",
      "[150 rows x 15 columns]\n"
     ]
    }
   ],
   "source": [
    "# Calculate the average Age of employees in the \"IT\" department\n",
    "average_age_it = df[df['Department'] == 'IT']['Age'].mean()\n",
    "\n",
    "# Identify rows where the employee is in \"IT\" and their Age is above the average Age\n",
    "it_above_average_age = df[(df['Department'] == 'IT') & (df['Age'] > average_age_it)]\n",
    "\n",
    "# Display the resulting rows\n",
    "print(it_above_average_age)\n"
   ]
  },
  {
   "cell_type": "code",
   "execution_count": 67,
   "id": "54994ed0-a2da-4300-8a71-28fe1bf61664",
   "metadata": {},
   "outputs": [],
   "source": [
    "#Question 27. Identify rows with duplicate Name and Joining Date combinations, and remove duplicates. "
   ]
  },
  {
   "cell_type": "markdown",
   "id": "3b610544-aaa2-4bbc-b55f-77f5c28b2022",
   "metadata": {},
   "source": [
    "duplicated(): Identifies rows with duplicate combinations of Name and Joining Date.\n",
    "keep=False: Marks all duplicate rows.\n",
    "drop_duplicates(): Removes duplicates, retaining the first occurrence.\n",
    "The verification step ensures that no duplicates remain."
   ]
  },
  {
   "cell_type": "code",
   "execution_count": 68,
   "id": "bed4cafd-ec28-4aac-96f2-1e2583a56b0f",
   "metadata": {},
   "outputs": [
    {
     "name": "stdout",
     "output_type": "stream",
     "text": [
      "Duplicate rows based on Name and Joining Date:\n",
      "Empty DataFrame\n",
      "Columns: [ID, Name, Age, Gender, Department, Salary, Joining Date, Performance Score, Experience, Status, Location, Bonus, Salary_Normalized, Experience Level, Age Group]\n",
      "Index: []\n",
      "\n",
      "Remaining duplicates after removal:\n",
      "Empty DataFrame\n",
      "Columns: [ID, Name, Age, Gender, Department, Salary, Joining Date, Performance Score, Experience, Status, Location, Bonus, Salary_Normalized, Experience Level, Age Group]\n",
      "Index: []\n"
     ]
    }
   ],
   "source": [
    "# Step 1: Identify duplicate rows based on Name and Joining Date\n",
    "duplicates = df[df.duplicated(subset=['Name', 'Joining Date'], keep=False)]\n",
    "print(\"Duplicate rows based on Name and Joining Date:\")\n",
    "print(duplicates)\n",
    "\n",
    "# Step 2: Remove duplicates and keep the first occurrence\n",
    "df = df.drop_duplicates(subset=['Name', 'Joining Date'], keep='first')\n",
    "\n",
    "# Step 3: Verify no duplicates remain\n",
    "remaining_duplicates = df[df.duplicated(subset=['Name', 'Joining Date'], keep=False)]\n",
    "print(\"\\nRemaining duplicates after removal:\")\n",
    "print(remaining_duplicates)\n"
   ]
  },
  {
   "cell_type": "code",
   "execution_count": 69,
   "id": "74424171-07e0-43a8-ae35-474f1b2716cb",
   "metadata": {},
   "outputs": [],
   "source": [
    "#Question 28. Remove rows where the Experience value is inconsistent with the Age (e.g., Experience > Age - 18). "
   ]
  },
  {
   "cell_type": "markdown",
   "id": "8a08d453-ce05-4db3-953c-0c9c4dc4f2a6",
   "metadata": {},
   "source": [
    "Identify inconsistent rows: Use a condition to filter rows where Experience > Age - 18.\n",
    "Remove inconsistent rows: Retain only rows where Experience <= Age - 18.\n",
    "Verification: Ensure no inconsistent rows remain after removal."
   ]
  },
  {
   "cell_type": "code",
   "execution_count": 70,
   "id": "9de326f9-ff66-4e24-8f64-c8728d9c610c",
   "metadata": {},
   "outputs": [
    {
     "name": "stdout",
     "output_type": "stream",
     "text": [
      "Inconsistent rows (Experience > Age - 18):\n",
      "      ID                Name  Age  Gender Department  Salary  \\\n",
      "1      2     Timothy Sanchez   25   Other      Sales  4249.0   \n",
      "14    15  Matthew Collins MD   31  Female      Sales  8568.0   \n",
      "24    25       Tracy Carlson   21    Male         HR  9275.0   \n",
      "26    27         Austin Long   20  Female         IT  4899.0   \n",
      "29    30       Rachel Ramsey   22    Male      Sales  9661.0   \n",
      "..   ...                 ...  ...     ...        ...     ...   \n",
      "991  992     William Schultz   23   Other      Sales  4311.0   \n",
      "992  993      Ashley Daniels   25   Other      Sales  5524.0   \n",
      "994  995     Rachel Phillips   22    Male         IT  3096.0   \n",
      "996  997        Todd Johnson   29  Female      Sales  6754.0   \n",
      "997  998     Michael Sanchez   18    Male      Sales  5278.0   \n",
      "\n",
      "            Joining Date  Performance Score  Experience   Status     Location  \\\n",
      "1    2020-11-09 00:00:00           2.000000          11  Retired       Remote   \n",
      "14   2020-06-01 00:00:00           3.441128          20  Retired  Los Angeles   \n",
      "24   2022-04-09 00:00:00           4.000000          12   Active     New York   \n",
      "26   2024-05-01 00:00:00           5.000000           8  Retired      Chicago   \n",
      "29   2016-08-18 00:00:00           2.000000          17  Retired       Remote   \n",
      "..                   ...                ...         ...      ...          ...   \n",
      "991  2019-08-17 00:00:00           3.441128          10  Retired  Los Angeles   \n",
      "992  2022-11-24 00:00:00           3.441128           8  Retired     New York   \n",
      "994  2018-10-27 00:00:00           2.000000           7  Retired       Remote   \n",
      "996  2018-07-20 00:00:00           3.441128          12  Retired     New York   \n",
      "997  2023-07-05 00:00:00           5.000000           3   Active     New York   \n",
      "\n",
      "     Bonus  Salary_Normalized Experience Level    Age Group  \n",
      "1    424.9           0.280020           Senior        Young  \n",
      "14   856.8           0.821384           Senior  Middle-aged  \n",
      "24   927.5           0.910003           Senior        Young  \n",
      "26   489.9           0.361494              Mid        Young  \n",
      "29   966.1           0.958386           Senior        Young  \n",
      "..     ...                ...              ...          ...  \n",
      "991  431.1           0.287791              Mid        Young  \n",
      "992  552.4           0.439835              Mid        Young  \n",
      "994  309.6           0.135498              Mid        Young  \n",
      "996  675.4           0.594009           Senior        Young  \n",
      "997  527.8           0.409000           Junior        Young  \n",
      "\n",
      "[234 rows x 15 columns]\n",
      "\n",
      "Remaining inconsistent rows after removal:\n",
      "Empty DataFrame\n",
      "Columns: [ID, Name, Age, Gender, Department, Salary, Joining Date, Performance Score, Experience, Status, Location, Bonus, Salary_Normalized, Experience Level, Age Group]\n",
      "Index: []\n"
     ]
    }
   ],
   "source": [
    "# Step 1: Identify rows where Experience is inconsistent with Age\n",
    "inconsistent_rows = df[df['Experience'] > (df['Age'] - 18)]\n",
    "print(\"Inconsistent rows (Experience > Age - 18):\")\n",
    "print(inconsistent_rows)\n",
    "\n",
    "# Step 2: Remove inconsistent rows\n",
    "df = df[df['Experience'] <= (df['Age'] - 18)]\n",
    "\n",
    "# Step 3: Verify that inconsistent rows are removed\n",
    "remaining_inconsistent = df[df['Experience'] > (df['Age'] - 18)]\n",
    "print(\"\\nRemaining inconsistent rows after removal:\")\n",
    "print(remaining_inconsistent)\n"
   ]
  },
  {
   "cell_type": "code",
   "execution_count": 71,
   "id": "624d8044-e4bb-49f8-8fec-b9f46594490e",
   "metadata": {},
   "outputs": [],
   "source": [
    "#Question 29. Sort the DataFrame by Salary in descending order. "
   ]
  },
  {
   "cell_type": "markdown",
   "id": "942aa210-e3af-4cbd-95a6-09b8de1b35f9",
   "metadata": {},
   "source": [
    "sort_values(by='Salary'): Sorts the DataFrame by the Salary column.\n",
    "ascending=False: Ensures the sorting is in descending order.\n",
    "df_sorted: Contains the sorted DataFrame, leaving the original DataFrame unchanged."
   ]
  },
  {
   "cell_type": "code",
   "execution_count": 72,
   "id": "36b6b7a2-e1c6-4536-93fa-9959a47486d9",
   "metadata": {},
   "outputs": [
    {
     "name": "stdout",
     "output_type": "stream",
     "text": [
      "      ID                Name  Age  Gender Department  Salary  \\\n",
      "811  812        Jesse Miller   52    Male         HR  9993.0   \n",
      "531  532  Jeffrey Williamson   54   Other         IT  9988.0   \n",
      "937  938       Gary Mitchell   52  Female      Sales  9963.0   \n",
      "908  909       Sara Martinez   34   Other         HR  9951.0   \n",
      "120  121       David Hampton   39  Female         HR  9941.0   \n",
      "..   ...                 ...  ...     ...        ...     ...   \n",
      "426  427      Patricia Scott   52    Male         HR  2041.0   \n",
      "882  883      Jaclyn Collins   47    Male         IT  2029.0   \n",
      "76    77       Victor Nelson   47  Female      Sales  2025.0   \n",
      "473  474        David Potter   56    Male         IT  2016.0   \n",
      "906  907   Christina Carlson   42  Female      Sales  2015.0   \n",
      "\n",
      "            Joining Date  Performance Score  Experience   Status     Location  \\\n",
      "811  2020-11-27 00:00:00           3.441128          12   Active      Chicago   \n",
      "531  2015-12-08 00:00:00           5.000000          16  Retired      Chicago   \n",
      "937  2016-09-22 00:00:00           5.000000          20  Retired  Los Angeles   \n",
      "908  2024-02-18 00:00:00           3.441128           6  Retired     New York   \n",
      "120  2024-07-06 00:00:00           3.000000          15  Retired     New York   \n",
      "..                   ...                ...         ...      ...          ...   \n",
      "426  2022-11-22 00:00:00           1.000000           8  Retired       Remote   \n",
      "882  2019-12-05 00:00:00           5.000000          17   Active  Los Angeles   \n",
      "76   2015-05-14 00:00:00           1.000000           5   Active       Remote   \n",
      "473  2020-07-13 00:00:00           5.000000          18   Active     New York   \n",
      "906  2020-05-08 00:00:00           1.000000          14  Retired       Remote   \n",
      "\n",
      "     Bonus  Salary_Normalized Experience Level    Age Group  \n",
      "811  999.3           1.000000           Senior       Senior  \n",
      "531  998.8           0.999373           Senior       Senior  \n",
      "937  996.3           0.996240           Senior       Senior  \n",
      "908  995.1           0.994736              Mid  Middle-aged  \n",
      "120  994.1           0.993482           Senior  Middle-aged  \n",
      "..     ...                ...              ...          ...  \n",
      "426  204.1           0.003259              Mid       Senior  \n",
      "882  202.9           0.001755           Senior  Middle-aged  \n",
      "76   202.5           0.001253           Junior  Middle-aged  \n",
      "473  201.6           0.000125           Senior       Senior  \n",
      "906  201.5           0.000000           Senior  Middle-aged  \n",
      "\n",
      "[660 rows x 15 columns]\n"
     ]
    }
   ],
   "source": [
    "# Sort the DataFrame by Salary in descending order\n",
    "df_sorted = df.sort_values(by='Salary', ascending=False)\n",
    "\n",
    "# Display the sorted DataFrame\n",
    "print(df_sorted)\n"
   ]
  },
  {
   "cell_type": "code",
   "execution_count": 73,
   "id": "680e16f1-6e38-49d5-9ca9-78d94ece24ae",
   "metadata": {},
   "outputs": [],
   "source": [
    "#Question 30. Sort the DataFrame by Department and then by Joining Date in ascending order. "
   ]
  },
  {
   "cell_type": "markdown",
   "id": "e4e941ea-0cc7-4daa-b72a-76da12e89119",
   "metadata": {},
   "source": [
    "sort_values(by=['Department', 'Joining Date']): Specifies the columns for sorting.\n",
    "ascending=[True, True]: Ensures both columns are sorted in ascending order.\n",
    "df_sorted: Contains the sorted DataFrame, leaving the original DataFrame unchanged."
   ]
  },
  {
   "cell_type": "code",
   "execution_count": 74,
   "id": "3e48634d-d553-4c69-8b23-d4d6215f9393",
   "metadata": {},
   "outputs": [
    {
     "name": "stdout",
     "output_type": "stream",
     "text": [
      "      ID               Name  Age  Gender Department  Salary  \\\n",
      "514  515  Taylor Williamson   48    Male         HR  9293.0   \n",
      "11    12  Rodney Richardson   60   Other         HR  6908.0   \n",
      "7      8       Amanda Baker   52   Other         HR  6285.0   \n",
      "677  678    Michelle Durham   35    Male         HR  5900.0   \n",
      "0      1       Cory Escobar   48  Female         HR  5641.0   \n",
      "..   ...                ...  ...     ...        ...     ...   \n",
      "405  406      Heather Scott   57    Male      Sales  9505.0   \n",
      "864  865     Jessica Garcia   47    Male      Sales  8619.0   \n",
      "819  820         Amber Ward   54  Female      Sales  7880.0   \n",
      "141  142  Matthew Gutierrez   38   Other      Sales  5883.0   \n",
      "169  170      George Bowers   24   Other      Sales  6041.0   \n",
      "\n",
      "            Joining Date  Performance Score  Experience   Status  Location  \\\n",
      "514  2015-03-10 00:00:00           3.441128          17  Retired   Chicago   \n",
      "11   2015-03-14 00:00:00           4.000000          19   Active   Chicago   \n",
      "7    2015-04-01 00:00:00           3.441128           8  Retired   Chicago   \n",
      "677  2015-04-25 00:00:00           3.441128          12   Active   Chicago   \n",
      "0    2015-05-03 00:00:00           2.000000          16   Active    Remote   \n",
      "..                   ...                ...         ...      ...       ...   \n",
      "405  2024-08-18 00:00:00           3.000000           6  Retired  New York   \n",
      "864  2024-08-23 00:00:00           2.000000          13   Active    Remote   \n",
      "819  2024-09-19 00:00:00           3.000000           6   Active  New York   \n",
      "141  2024-10-22 00:00:00           4.000000          14  Retired   Chicago   \n",
      "169  2024-12-07 00:00:00           2.000000           4   Active    Remote   \n",
      "\n",
      "     Bonus  Salary_Normalized Experience Level    Age Group  \n",
      "514  929.3           0.912259           Senior  Middle-aged  \n",
      "11   690.8           0.613312           Senior       Senior  \n",
      "7    628.5           0.535222              Mid       Senior  \n",
      "677  590.0           0.486964           Senior  Middle-aged  \n",
      "0    564.1           0.454500           Senior  Middle-aged  \n",
      "..     ...                ...              ...          ...  \n",
      "405  950.5           0.938832              Mid       Senior  \n",
      "864  861.9           0.827776           Senior  Middle-aged  \n",
      "819  788.0           0.735147              Mid       Senior  \n",
      "141  588.3           0.484833           Senior  Middle-aged  \n",
      "169  604.1           0.504638           Junior        Young  \n",
      "\n",
      "[660 rows x 15 columns]\n"
     ]
    }
   ],
   "source": [
    "# Sort the DataFrame by Department and Joining Date in ascending order\n",
    "df_sorted = df.sort_values(by=['Department', 'Joining Date'], ascending=[True, True])\n",
    "\n",
    "# Display the sorted DataFrame\n",
    "print(df_sorted)\n"
   ]
  },
  {
   "cell_type": "code",
   "execution_count": 75,
   "id": "6f82d572-2e9f-4576-870e-d8f9ddedc680",
   "metadata": {},
   "outputs": [],
   "source": [
    "#Question 31. Rank all employees by Salary within their Department and add the rank as a new column."
   ]
  },
  {
   "cell_type": "markdown",
   "id": "b617f566-9439-481a-a7e1-2d49af2c1793",
   "metadata": {},
   "source": [
    "groupby('Department'): Groups the data by Department.\n",
    "rank():\n",
    "ascending=False: Ranks in descending order (highest salary gets rank 1).\n",
    "method='dense': Ensures there are no gaps in ranking.\n",
    "Salary Rank: New column added to store the rank."
   ]
  },
  {
   "cell_type": "code",
   "execution_count": 76,
   "id": "9d84a8e6-15b9-403f-b08b-fa94a85d65a1",
   "metadata": {},
   "outputs": [
    {
     "name": "stdout",
     "output_type": "stream",
     "text": [
      "                    Name Department  Salary  Salary Rank\n",
      "0           Cory Escobar         HR  5641.0        113.0\n",
      "2           Chad Nichols      Sales  3058.0        191.0\n",
      "3     Christine Williams         IT  5895.0        108.0\n",
      "4           Amber Harris         IT  4317.0        157.0\n",
      "5            Ashley Howe         HR  2591.0        193.0\n",
      "...                  ...        ...     ...          ...\n",
      "993        Brandon Bruce         HR  3371.0        169.0\n",
      "995        Pamela Reeves      Sales  7652.0         65.0\n",
      "998        Ashley Taylor         IT  5437.0        124.0\n",
      "999          Shawn Scott         IT  7364.0         78.0\n",
      "1000            John Doe         HR  5000.0        128.0\n",
      "\n",
      "[660 rows x 4 columns]\n"
     ]
    }
   ],
   "source": [
    "# Rank employees by Salary within their Department\n",
    "df['Salary Rank'] = df.groupby('Department')['Salary'].rank(ascending=False, method='dense')\n",
    "\n",
    "# Display the DataFrame with the new column\n",
    "print(df[['Name', 'Department', 'Salary', 'Salary Rank']])\n"
   ]
  },
  {
   "cell_type": "code",
   "execution_count": 77,
   "id": "5d626277-d12a-4d9c-853b-4ba28f6ac5cd",
   "metadata": {},
   "outputs": [
    {
     "name": "stdout",
     "output_type": "stream",
     "text": [
      "    Department               Name  Salary  Salary Rank\n",
      "811         HR       Jesse Miller  9993.0          1.0\n",
      "908         HR      Sara Martinez  9951.0          2.0\n",
      "120         HR      David Hampton  9941.0          3.0\n",
      "200         HR  Mr. James Johnson  9930.0          4.0\n",
      "580         HR   Jennifer Stewart  9772.0          5.0\n",
      "..         ...                ...     ...          ...\n",
      "698      Sales      Ashley Garcia  2106.0        219.0\n",
      "841      Sales        Tammy Smith  2087.0        220.0\n",
      "787      Sales     David Williams  2078.0        221.0\n",
      "76       Sales      Victor Nelson  2025.0        222.0\n",
      "906      Sales  Christina Carlson  2015.0        223.0\n",
      "\n",
      "[660 rows x 4 columns]\n"
     ]
    }
   ],
   "source": [
    "# Verify the Salary Rank by displaying Department, Name, Salary, and Salary Rank\n",
    "verification = df[['Department', 'Name', 'Salary', 'Salary Rank']].sort_values(by=['Department', 'Salary'], ascending=[True, False])\n",
    "\n",
    "# Display the verification DataFrame\n",
    "print(verification)\n"
   ]
  },
  {
   "cell_type": "markdown",
   "id": "3dd6445f-fce7-4b8a-b819-370fed880a61",
   "metadata": {},
   "source": [
    "Here’s the code to verify the Salary Rank column after ranking employees by salary within their department:"
   ]
  },
  {
   "cell_type": "code",
   "execution_count": 78,
   "id": "f860f1be-07f5-4718-951d-2be3af29c4da",
   "metadata": {},
   "outputs": [
    {
     "name": "stdout",
     "output_type": "stream",
     "text": [
      "    Department               Name  Salary  Salary Rank\n",
      "811         HR       Jesse Miller  9993.0          1.0\n",
      "908         HR      Sara Martinez  9951.0          2.0\n",
      "120         HR      David Hampton  9941.0          3.0\n",
      "200         HR  Mr. James Johnson  9930.0          4.0\n",
      "580         HR   Jennifer Stewart  9772.0          5.0\n",
      "..         ...                ...     ...          ...\n",
      "698      Sales      Ashley Garcia  2106.0        219.0\n",
      "841      Sales        Tammy Smith  2087.0        220.0\n",
      "787      Sales     David Williams  2078.0        221.0\n",
      "76       Sales      Victor Nelson  2025.0        222.0\n",
      "906      Sales  Christina Carlson  2015.0        223.0\n",
      "\n",
      "[660 rows x 4 columns]\n"
     ]
    }
   ],
   "source": [
    "# Verify the Salary Rank by displaying Department, Name, Salary, and Salary Rank\n",
    "verification = df[['Department', 'Name', 'Salary', 'Salary Rank']].sort_values(by=['Department', 'Salary'], ascending=[True, False])\n",
    "\n",
    "# Display the verification DataFrame\n",
    "print(verification)\n"
   ]
  },
  {
   "cell_type": "code",
   "execution_count": 79,
   "id": "549f9037-3907-4c18-8764-49b0a215ca19",
   "metadata": {},
   "outputs": [],
   "source": [
    "#Question 32. Sort the dataset by Experience in descending order, but break ties using Performance Score in ascending order. "
   ]
  },
  {
   "cell_type": "markdown",
   "id": "ea1ed87b-2ba3-4d9c-8439-2f135636f6d2",
   "metadata": {},
   "source": [
    "by=['Experience', 'Performance Score']: Sort first by Experience in descending order (highest to lowest), and for rows with equal Experience, break the tie by sorting by Performance Score in ascending order (lowest to highest).\n",
    "ascending=[False, True]: False for descending order for Experience, and True for ascending order for Performance Score."
   ]
  },
  {
   "cell_type": "code",
   "execution_count": 80,
   "id": "fc7376b5-56f7-4c43-a7de-4432874947e9",
   "metadata": {},
   "outputs": [
    {
     "name": "stdout",
     "output_type": "stream",
     "text": [
      "      ID            Name  Age  Gender Department  Salary         Joining Date  \\\n",
      "355  356  Laura Castillo   41    Male         IT  2392.0  2024-03-15 00:00:00   \n",
      "402  403   Briana Martin   59    Male      Sales  4496.0  2023-05-22 00:00:00   \n",
      "538  539  Brandon Church   38    Male         HR  8388.0  2021-08-02 00:00:00   \n",
      "828  829  Michael Snyder   55   Other      Sales  7497.0  2024-02-03 00:00:00   \n",
      "529  530      Katie Vega   40  Female         HR  7002.0  2019-08-06 00:00:00   \n",
      "..   ...             ...  ...     ...        ...     ...                  ...   \n",
      "732  733       Jay Evans   21    Male         HR  8147.0  2022-03-29 00:00:00   \n",
      "797  798   Melanie Casey   44   Other         HR  4713.0  2017-10-09 00:00:00   \n",
      "803  804   Jacob Aguilar   23    Male         IT  2372.0  2020-06-01 00:00:00   \n",
      "879  880    Sarah Thomas   54    Male         IT  6185.0  2016-10-29 00:00:00   \n",
      "987  988  Danielle Brown   31  Female         IT  5605.0  2024-06-28 00:00:00   \n",
      "\n",
      "     Performance Score  Experience   Status  Location  Bonus  \\\n",
      "355                1.0          20  Retired    Remote  239.2   \n",
      "402                1.0          20  Retired    Remote  449.6   \n",
      "538                1.0          20  Retired    Remote  838.8   \n",
      "828                1.0          20  Retired    Remote  749.7   \n",
      "529                2.0          20   Active    Remote  700.2   \n",
      "..                 ...         ...      ...       ...    ...   \n",
      "732                5.0           2  Retired   Chicago  814.7   \n",
      "797                5.0           2   Active  New York  471.3   \n",
      "803                5.0           2  Retired   Chicago  237.2   \n",
      "879                5.0           2   Active  New York  618.5   \n",
      "987                5.0           2   Active   Chicago  560.5   \n",
      "\n",
      "     Salary_Normalized Experience Level    Age Group  Salary Rank  \n",
      "355           0.047255           Senior  Middle-aged        209.0  \n",
      "402           0.310980           Senior       Senior        147.0  \n",
      "538           0.798822           Senior  Middle-aged         33.0  \n",
      "828           0.687140           Senior       Senior         73.0  \n",
      "529           0.625094           Senior  Middle-aged         76.0  \n",
      "..                 ...              ...          ...          ...  \n",
      "732           0.768614           Junior        Young         47.0  \n",
      "797           0.338180           Junior  Middle-aged        134.0  \n",
      "803           0.044748           Junior        Young        211.0  \n",
      "879           0.522687           Junior       Senior         99.0  \n",
      "987           0.449987           Junior  Middle-aged        115.0  \n",
      "\n",
      "[660 rows x 16 columns]\n"
     ]
    }
   ],
   "source": [
    "# Sort the dataset by Experience (descending) and then by Performance Score (ascending)\n",
    "df_sorted = df.sort_values(by=['Experience', 'Performance Score'], ascending=[False, True])\n",
    "\n",
    "# Display the sorted DataFrame\n",
    "print(df_sorted)\n"
   ]
  },
  {
   "cell_type": "code",
   "execution_count": 81,
   "id": "2256a3ff-d7d8-408b-8750-a674fece6650",
   "metadata": {},
   "outputs": [],
   "source": [
    "#Question 33 Create a new DataFrame containing only employees in \"HR\" with a Salary above 5000. "
   ]
  },
  {
   "cell_type": "markdown",
   "id": "cdc305e7-8840-442d-959f-7f74a2f4d175",
   "metadata": {},
   "source": [
    "df['Department'] == 'HR': Filters the rows where the Department column is \"HR\".\n",
    "df['Salary'] > 5000: Filters the rows where the Salary is greater than 5000.\n",
    "The & operator is used to combine both conditions, and the result is a new DataFrame, hr_above_5000.\n",
    "This will display only the employees from the \"HR\" department with a salary above 5000."
   ]
  },
  {
   "cell_type": "code",
   "execution_count": 82,
   "id": "849d8e1c-8bf8-4e30-88b0-6f353a46e2dd",
   "metadata": {},
   "outputs": [
    {
     "name": "stdout",
     "output_type": "stream",
     "text": [
      "      ID                 Name  Age  Gender Department  Salary  \\\n",
      "0      1         Cory Escobar   48  Female         HR  5641.0   \n",
      "7      8         Amanda Baker   52   Other         HR  6285.0   \n",
      "11    12    Rodney Richardson   60   Other         HR  6908.0   \n",
      "16    17       Jonathan Perez   59    Male         HR  6586.0   \n",
      "18    19       Nancy Stephens   38    Male         HR  9061.0   \n",
      "..   ...                  ...  ...     ...        ...     ...   \n",
      "941  942  Elizabeth Middleton   38   Other         HR  8277.0   \n",
      "944  945       Mary Armstrong   29  Female         HR  9402.0   \n",
      "953  954         Ruth Osborne   53    Male         HR  5616.0   \n",
      "958  959       Morgan Coleman   51  Female         HR  6415.0   \n",
      "983  984          David Moody   43    Male         HR  8830.0   \n",
      "\n",
      "            Joining Date  Performance Score  Experience   Status     Location  \\\n",
      "0    2015-05-03 00:00:00           2.000000          16   Active       Remote   \n",
      "7    2015-04-01 00:00:00           3.441128           8  Retired      Chicago   \n",
      "11   2015-03-14 00:00:00           4.000000          19   Active      Chicago   \n",
      "16   2019-02-19 00:00:00           3.000000           7  Retired  Los Angeles   \n",
      "18   2017-07-16 00:00:00           5.000000          16  Retired      Chicago   \n",
      "..                   ...                ...         ...      ...          ...   \n",
      "941  2020-09-05 00:00:00           4.000000           9  Retired  Los Angeles   \n",
      "944  2017-12-13 00:00:00           3.441128           2   Active     New York   \n",
      "953  2022-07-31 00:00:00           4.000000          16   Active  Los Angeles   \n",
      "958  2022-03-20 00:00:00           1.000000           8  Retired       Remote   \n",
      "983  2021-09-10 00:00:00           3.441128          19  Retired      Chicago   \n",
      "\n",
      "     Bonus  Salary_Normalized Experience Level    Age Group  Salary Rank  \n",
      "0    564.1           0.454500           Senior  Middle-aged        113.0  \n",
      "7    628.5           0.535222              Mid       Senior        102.0  \n",
      "11   690.8           0.613312           Senior       Senior         80.0  \n",
      "16   658.6           0.572951              Mid       Senior         92.0  \n",
      "18   906.1           0.883179           Senior  Middle-aged         19.0  \n",
      "..     ...                ...              ...          ...          ...  \n",
      "941  827.7           0.784908              Mid  Middle-aged         38.0  \n",
      "944  940.2           0.925921           Junior        Young         11.0  \n",
      "953  561.6           0.451366           Senior       Senior        114.0  \n",
      "958  641.5           0.551517              Mid       Senior         98.0  \n",
      "983  883.0           0.854224           Senior  Middle-aged         24.0  \n",
      "\n",
      "[128 rows x 16 columns]\n"
     ]
    }
   ],
   "source": [
    "# Filter the DataFrame for employees in HR department with Salary above 5000\n",
    "hr_above_5000 = df[(df['Department'] == 'HR') & (df['Salary'] > 5000)]\n",
    "\n",
    "# Display the new DataFrame\n",
    "print(hr_above_5000)\n"
   ]
  },
  {
   "cell_type": "markdown",
   "id": "ead86459-9599-4aeb-9c3a-1160973cc70a",
   "metadata": {},
   "source": [
    "To verify if the code works correctly, you can check the first few rows or other relevant details of the filtered DataFrame. Here's how you can verify it:"
   ]
  },
  {
   "cell_type": "code",
   "execution_count": 83,
   "id": "63b97e41-3d29-4037-a587-b93f8b6423ce",
   "metadata": {},
   "outputs": [
    {
     "name": "stdout",
     "output_type": "stream",
     "text": [
      "    ID               Name  Age  Gender Department  Salary  \\\n",
      "0    1       Cory Escobar   48  Female         HR  5641.0   \n",
      "7    8       Amanda Baker   52   Other         HR  6285.0   \n",
      "11  12  Rodney Richardson   60   Other         HR  6908.0   \n",
      "16  17     Jonathan Perez   59    Male         HR  6586.0   \n",
      "18  19     Nancy Stephens   38    Male         HR  9061.0   \n",
      "\n",
      "           Joining Date  Performance Score  Experience   Status     Location  \\\n",
      "0   2015-05-03 00:00:00           2.000000          16   Active       Remote   \n",
      "7   2015-04-01 00:00:00           3.441128           8  Retired      Chicago   \n",
      "11  2015-03-14 00:00:00           4.000000          19   Active      Chicago   \n",
      "16  2019-02-19 00:00:00           3.000000           7  Retired  Los Angeles   \n",
      "18  2017-07-16 00:00:00           5.000000          16  Retired      Chicago   \n",
      "\n",
      "    Bonus  Salary_Normalized Experience Level    Age Group  Salary Rank  \n",
      "0   564.1           0.454500           Senior  Middle-aged        113.0  \n",
      "7   628.5           0.535222              Mid       Senior        102.0  \n",
      "11  690.8           0.613312           Senior       Senior         80.0  \n",
      "16  658.6           0.572951              Mid       Senior         92.0  \n",
      "18  906.1           0.883179           Senior  Middle-aged         19.0  \n",
      "(128, 16)\n",
      "['HR']\n",
      "9993.0\n"
     ]
    }
   ],
   "source": [
    "# Verify the new DataFrame\n",
    "print(hr_above_5000.head())  # Display the first 5 rows\n",
    "print(hr_above_5000.shape)   # Print the number of rows and columns\n",
    "print(hr_above_5000['Department'].unique())  # Check the unique departments (should only be 'HR')\n",
    "print(hr_above_5000['Salary'].max())  # Check the highest salary to verify the salary filter\n"
   ]
  },
  {
   "cell_type": "code",
   "execution_count": 84,
   "id": "fa12b100-e7f3-4d04-aea8-7462f76ae79f",
   "metadata": {},
   "outputs": [],
   "source": [
    "#Question 34. Filter out all rows where the Location is \"Chicago\"."
   ]
  },
  {
   "cell_type": "markdown",
   "id": "2911ab0b-0703-4b32-8573-2f8cc838d487",
   "metadata": {},
   "source": [
    "Filter out all rows where the Location column has the value \"Chicago.\"\n",
    "Print the first few rows of the filtered DataFrame to confirm.\n",
    "Display the unique values in the Location column to ensure \"Chicago\" has been removed."
   ]
  },
  {
   "cell_type": "code",
   "execution_count": 85,
   "id": "e39d877a-289e-4df3-8d1c-fd27ffda92eb",
   "metadata": {},
   "outputs": [
    {
     "name": "stdout",
     "output_type": "stream",
     "text": [
      "   ID                Name  Age  Gender Department  Salary  \\\n",
      "0   1        Cory Escobar   48  Female         HR  5641.0   \n",
      "2   3        Chad Nichols   57   Other      Sales  3058.0   \n",
      "3   4  Christine Williams   58  Female         IT  5895.0   \n",
      "4   5        Amber Harris   35   Other         IT  4317.0   \n",
      "5   6         Ashley Howe   29  Female         HR  2591.0   \n",
      "\n",
      "          Joining Date  Performance Score  Experience   Status  Location  \\\n",
      "0  2015-05-03 00:00:00           2.000000          16   Active    Remote   \n",
      "2  2019-02-12 00:00:00           3.441128           2  Retired  New York   \n",
      "3  2017-09-08 00:00:00           2.000000          13  Retired    Remote   \n",
      "4  2020-02-15 00:00:00           5.000000          16  Retired  New York   \n",
      "5  2016-06-24 00:00:00           1.000000           6   Active    Remote   \n",
      "\n",
      "   Bonus  Salary_Normalized Experience Level    Age Group  Salary Rank  \n",
      "0  564.1           0.454500           Senior  Middle-aged        113.0  \n",
      "2  305.8           0.130735           Junior       Senior        191.0  \n",
      "3  589.5           0.486337           Senior       Senior        108.0  \n",
      "4  431.7           0.288543           Senior  Middle-aged        157.0  \n",
      "5  259.1           0.072199              Mid        Young        193.0  \n",
      "['Remote' 'New York' 'Los Angeles']\n"
     ]
    }
   ],
   "source": [
    "# Filter out rows where Location is \"Chicago\"\n",
    "df_filtered = df[df['Location'] != 'Chicago']\n",
    "\n",
    "# Verify the change by checking the first few rows and the unique locations\n",
    "print(df_filtered.head())  # Display the first 5 rows\n",
    "print(df_filtered['Location'].unique())  # Check the unique locations in the filtered dataset\n"
   ]
  },
  {
   "cell_type": "code",
   "execution_count": 86,
   "id": "a207fbf1-372b-45a9-b120-4b9e207e5483",
   "metadata": {},
   "outputs": [],
   "source": [
    "#Question 35. Delete all rows where the Performance Score is below 2."
   ]
  },
  {
   "cell_type": "markdown",
   "id": "aa24bff0-5597-4f17-a2f2-8c9770c0327b",
   "metadata": {},
   "source": [
    "Filters the rows where the Performance Score is greater than or equal to 2.\n",
    "Displays the first few rows of the cleaned DataFrame to verify the change."
   ]
  },
  {
   "cell_type": "code",
   "execution_count": 87,
   "id": "40c47330-6384-4600-bbe3-129546ce824e",
   "metadata": {},
   "outputs": [
    {
     "name": "stdout",
     "output_type": "stream",
     "text": [
      "   ID                Name  Age  Gender Department  Salary  \\\n",
      "0   1        Cory Escobar   48  Female         HR  5641.0   \n",
      "2   3        Chad Nichols   57   Other      Sales  3058.0   \n",
      "3   4  Christine Williams   58  Female         IT  5895.0   \n",
      "4   5        Amber Harris   35   Other         IT  4317.0   \n",
      "6   7         David Olson   39  Female      Sales  6826.0   \n",
      "\n",
      "          Joining Date  Performance Score  Experience   Status  Location  \\\n",
      "0  2015-05-03 00:00:00           2.000000          16   Active    Remote   \n",
      "2  2019-02-12 00:00:00           3.441128           2  Retired  New York   \n",
      "3  2017-09-08 00:00:00           2.000000          13  Retired    Remote   \n",
      "4  2020-02-15 00:00:00           5.000000          16  Retired  New York   \n",
      "6  2023-05-11 00:00:00           3.441128           4   Active  New York   \n",
      "\n",
      "   Bonus  Salary_Normalized Experience Level    Age Group  Salary Rank  \n",
      "0  564.1           0.454500           Senior  Middle-aged        113.0  \n",
      "2  305.8           0.130735           Junior       Senior        191.0  \n",
      "3  589.5           0.486337           Senior       Senior        108.0  \n",
      "4  431.7           0.288543           Senior  Middle-aged        157.0  \n",
      "6  682.6           0.603033           Junior  Middle-aged         90.0  \n"
     ]
    }
   ],
   "source": [
    "# Delete rows where Performance Score is below 2\n",
    "df_cleaned = df[df['Performance Score'] >= 2]\n",
    "\n",
    "# Verify the result by checking the first few rows\n",
    "print(df_cleaned.head())\n"
   ]
  },
  {
   "cell_type": "code",
   "execution_count": 88,
   "id": "9b5430bd-567e-4065-b939-074448790fc2",
   "metadata": {},
   "outputs": [],
   "source": [
    "#Question 36. Find the average Salary for each Department. "
   ]
  },
  {
   "cell_type": "code",
   "execution_count": 89,
   "id": "879c3348-b4f2-4815-90c1-2df426fdcc86",
   "metadata": {},
   "outputs": [
    {
     "name": "stdout",
     "output_type": "stream",
     "text": [
      "Department\n",
      "HR       5943.927885\n",
      "IT       5935.701754\n",
      "Sales    5888.125000\n",
      "Name: Salary, dtype: float64\n"
     ]
    }
   ],
   "source": [
    "# Group by 'Department' and calculate the average Salary for each department\n",
    "average_salary_per_department = df.groupby('Department')['Salary'].mean()\n",
    "\n",
    "# Display the result\n",
    "print(average_salary_per_department)\n"
   ]
  },
  {
   "cell_type": "code",
   "execution_count": 90,
   "id": "d0073dbd-41de-4155-b687-83199886608f",
   "metadata": {},
   "outputs": [],
   "source": [
    "#Question 37. Calculate the total Salary of all employees grouped by Status."
   ]
  },
  {
   "cell_type": "markdown",
   "id": "e5f6e0de-8f6a-4afa-95c3-83b405000307",
   "metadata": {},
   "source": [
    "To calculate the total salary of all employees grouped by their Status, you can use the groupby() method and then apply the sum() function to the Salary column. Here's the code:"
   ]
  },
  {
   "cell_type": "code",
   "execution_count": 91,
   "id": "e102df74-843d-4226-bbde-3ea4ce333899",
   "metadata": {},
   "outputs": [
    {
     "name": "stdout",
     "output_type": "stream",
     "text": [
      "Status\n",
      "Active     1903828.0\n",
      "Retired    2004789.0\n",
      "Name: Salary, dtype: float64\n"
     ]
    }
   ],
   "source": [
    "# Group by 'Status' and calculate the total Salary for each Status\n",
    "total_salary_per_status = df.groupby('Status')['Salary'].sum()\n",
    "\n",
    "# Display the result\n",
    "print(total_salary_per_status)\n"
   ]
  },
  {
   "cell_type": "code",
   "execution_count": 92,
   "id": "b1b0d2f9-6c04-4011-ad43-0c88b56bae30",
   "metadata": {},
   "outputs": [],
   "source": [
    "#Question 38. Find the maximum Performance Score for employees in each Location. "
   ]
  },
  {
   "cell_type": "markdown",
   "id": "31d45318-9df6-4244-9c79-5dfbfc4cd33b",
   "metadata": {},
   "source": [
    "To find the maximum Performance Score for employees in each Location, you can group the data by the Location column and then use the max() function on the Performance Score column. Here's the code:"
   ]
  },
  {
   "cell_type": "code",
   "execution_count": 93,
   "id": "61c3e4f3-5a75-4b73-a875-35d2248addb9",
   "metadata": {},
   "outputs": [
    {
     "name": "stdout",
     "output_type": "stream",
     "text": [
      "Location\n",
      "Chicago        5.0\n",
      "Los Angeles    5.0\n",
      "New York       5.0\n",
      "Remote         3.0\n",
      "Name: Performance Score, dtype: float64\n"
     ]
    }
   ],
   "source": [
    "# Group by 'Location' and calculate the maximum Performance Score for each Location\n",
    "max_performance_per_location = df.groupby('Location')['Performance Score'].max()\n",
    "\n",
    "# Display the result\n",
    "print(max_performance_per_location)\n"
   ]
  },
  {
   "cell_type": "code",
   "execution_count": 94,
   "id": "c7e8d2e8-5f79-4912-a5cf-8a96b9e6c055",
   "metadata": {},
   "outputs": [],
   "source": [
    "#Question 39. Calculate the total Salary paid to employees who joined in each year. "
   ]
  },
  {
   "cell_type": "markdown",
   "id": "ada81dd8-a360-4251-9dbe-ec1e0f8b45f6",
   "metadata": {},
   "source": [
    "To calculate the total Salary paid to employees who joined in each year, you can extract the year from the Joining Date column, group the data by the year, and then sum the Salary column. Here's the code to do that:"
   ]
  },
  {
   "cell_type": "code",
   "execution_count": 95,
   "id": "5b17afd6-8e04-4f86-bf44-78b23d8bd8e1",
   "metadata": {},
   "outputs": [
    {
     "name": "stdout",
     "output_type": "stream",
     "text": [
      "Joining Year\n",
      "2014     15135.0\n",
      "2015    311765.0\n",
      "2016    392334.0\n",
      "2017    363912.0\n",
      "2018    411163.0\n",
      "2019    356791.0\n",
      "2020    384911.0\n",
      "2021    460362.0\n",
      "2022    362818.0\n",
      "2023    476092.0\n",
      "2024    373334.0\n",
      "Name: Salary, dtype: float64\n"
     ]
    }
   ],
   "source": [
    "# Convert 'Joining Date' to datetime format (if not already)\n",
    "df['Joining Date'] = pd.to_datetime(df['Joining Date'])\n",
    "\n",
    "# Extract the year from 'Joining Date'\n",
    "df['Joining Year'] = df['Joining Date'].dt.year\n",
    "\n",
    "# Group by 'Joining Year' and calculate the total Salary for each year\n",
    "total_salary_per_year = df.groupby('Joining Year')['Salary'].sum()\n",
    "\n",
    "# Display the result\n",
    "print(total_salary_per_year)\n"
   ]
  },
  {
   "cell_type": "code",
   "execution_count": 96,
   "id": "2e69242e-1f33-486d-bc4f-90f5e4d45a09",
   "metadata": {},
   "outputs": [],
   "source": [
    "#Question 40. Find the department with the highest average Performance Score. "
   ]
  },
  {
   "cell_type": "markdown",
   "id": "0deae437-76d5-4dc8-8bc1-764ef3c3decc",
   "metadata": {},
   "source": [
    "To find the department with the highest average Performance Score, you can group the data by the Department column, calculate the mean of the Performance Score for each department, and then find the department with the highest value. Here's the code to do that:"
   ]
  },
  {
   "cell_type": "code",
   "execution_count": 97,
   "id": "941c154a-f943-4964-869a-62c49b0b18c0",
   "metadata": {},
   "outputs": [
    {
     "name": "stdout",
     "output_type": "stream",
     "text": [
      "The department with the highest average Performance Score is: IT\n"
     ]
    }
   ],
   "source": [
    "# Group by 'Department' and calculate the average Performance Score for each department\n",
    "avg_performance_per_dept = df.groupby('Department')['Performance Score'].mean()\n",
    "\n",
    "# Find the department with the highest average Performance Score\n",
    "highest_avg_performance_dept = avg_performance_per_dept.idxmax()\n",
    "\n",
    "# Display the result\n",
    "print(f\"The department with the highest average Performance Score is: {highest_avg_performance_dept}\")\n"
   ]
  },
  {
   "cell_type": "code",
   "execution_count": 98,
   "id": "4ffe4418-efdf-4e5e-86a0-229797d8993f",
   "metadata": {},
   "outputs": [],
   "source": [
    "#Question 41. Count the number of employees in each Location grouped by their Session. "
   ]
  },
  {
   "cell_type": "markdown",
   "id": "6a268e2e-4171-4e1c-a4ef-1b39495c85d6",
   "metadata": {},
   "source": [
    "You can count the number of employees in each Location, grouped by their Session using the groupby() method followed by size() to get the count. Here’s the code:"
   ]
  },
  {
   "cell_type": "code",
   "execution_count": 99,
   "id": "8b9cd037-7da9-4e3d-87b4-7d09f3469958",
   "metadata": {},
   "outputs": [
    {
     "name": "stdout",
     "output_type": "stream",
     "text": [
      "   ID                Name  Age  Gender Department  Salary Joining Date  \\\n",
      "0   1        Cory Escobar   48  Female         HR  5641.0   2015-05-03   \n",
      "2   3        Chad Nichols   57   Other      Sales  3058.0   2019-02-12   \n",
      "3   4  Christine Williams   58  Female         IT  5895.0   2017-09-08   \n",
      "4   5        Amber Harris   35   Other         IT  4317.0   2020-02-15   \n",
      "5   6         Ashley Howe   29  Female         HR  2591.0   2016-06-24   \n",
      "\n",
      "   Performance Score  Experience   Status  Location  Bonus  Salary_Normalized  \\\n",
      "0           2.000000          16   Active    Remote  564.1           0.454500   \n",
      "2           3.441128           2  Retired  New York  305.8           0.130735   \n",
      "3           2.000000          13  Retired    Remote  589.5           0.486337   \n",
      "4           5.000000          16  Retired  New York  431.7           0.288543   \n",
      "5           1.000000           6   Active    Remote  259.1           0.072199   \n",
      "\n",
      "  Experience Level    Age Group  Salary Rank  Joining Year  \n",
      "0           Senior  Middle-aged        113.0          2015  \n",
      "2           Junior       Senior        191.0          2019  \n",
      "3           Senior       Senior        108.0          2017  \n",
      "4           Senior  Middle-aged        157.0          2020  \n",
      "5              Mid        Young        193.0          2016  \n"
     ]
    }
   ],
   "source": [
    "# Drop the 'Session' column if it exists, ignore error if it doesn't\n",
    "df = df.drop('Session', axis=1, errors='ignore')\n",
    "\n",
    "# Verify the changes\n",
    "print(df.head())\n"
   ]
  },
  {
   "cell_type": "code",
   "execution_count": 100,
   "id": "185172e8-2679-4e41-ad40-91eba4557a74",
   "metadata": {},
   "outputs": [],
   "source": [
    "#Queston 42. Group employees by Status and calculate the sum, mean, and standard deviation of their Salary."
   ]
  },
  {
   "cell_type": "markdown",
   "id": "6863fbaf-1927-4639-919f-ff103722eb4f",
   "metadata": {},
   "source": [
    "We can group employees by their Status and calculate the sum, mean, and standard deviation of their Salary using the groupby() method along with agg(). Here’s the code:\n",
    "\n",
    "This code will provide the total (sum), average (mean), and standard deviation (std) of the Salary for each Status."
   ]
  },
  {
   "cell_type": "code",
   "execution_count": 101,
   "id": "e98ef98f-40e5-4a2c-9817-b364da55157d",
   "metadata": {},
   "outputs": [
    {
     "name": "stdout",
     "output_type": "stream",
     "text": [
      "               sum         mean          std\n",
      "Status                                      \n",
      "Active   1903828.0  5857.932308  2345.912949\n",
      "Retired  2004789.0  5984.444776  2331.021589\n"
     ]
    }
   ],
   "source": [
    "# Group by Status and calculate sum, mean, and standard deviation of Salary\n",
    "salary_stats_by_status = df.groupby('Status')['Salary'].agg(['sum', 'mean', 'std'])\n",
    "\n",
    "# Display the result\n",
    "print(salary_stats_by_status)\n",
    "\n"
   ]
  },
  {
   "cell_type": "code",
   "execution_count": 102,
   "id": "59dd6d18-2975-4b07-be34-1f547c7f8135",
   "metadata": {},
   "outputs": [],
   "source": [
    "#Question 43. Use the apply() method to create a new column Monthly Salary by dividing the Salary by 12. "
   ]
  },
  {
   "cell_type": "markdown",
   "id": "0ef172ac-e131-452e-a1fa-c1405deb3ddf",
   "metadata": {},
   "source": [
    "\n",
    "We can use the apply() method to create a new column Monthly Salary by dividing the Salary by 12. Here's the code to do that:"
   ]
  },
  {
   "cell_type": "code",
   "execution_count": 103,
   "id": "f60d03b3-b092-4c3c-ba05-ec3a79352b46",
   "metadata": {},
   "outputs": [
    {
     "name": "stdout",
     "output_type": "stream",
     "text": [
      "                 Name  Salary  Monthly Salary\n",
      "0        Cory Escobar  5641.0      470.083333\n",
      "2        Chad Nichols  3058.0      254.833333\n",
      "3  Christine Williams  5895.0      491.250000\n",
      "4        Amber Harris  4317.0      359.750000\n",
      "5         Ashley Howe  2591.0      215.916667\n"
     ]
    }
   ],
   "source": [
    "# Create a new column 'Monthly Salary' by applying the division of Salary by 12\n",
    "df['Monthly Salary'] = df['Salary'].apply(lambda x: x / 12)\n",
    "\n",
    "# Display the first few rows to verify\n",
    "print(df[['Name', 'Salary', 'Monthly Salary']].head())\n"
   ]
  },
  {
   "cell_type": "code",
   "execution_count": 104,
   "id": "7f3c914f-64ff-4160-a612-c46c8a1346d0",
   "metadata": {},
   "outputs": [],
   "source": [
    "#Question 44. Use the applymap() method to convert all string values in the DataFrame to uppercase. "
   ]
  },
  {
   "cell_type": "markdown",
   "id": "862c70d1-cac7-4036-8be2-53e738fb235f",
   "metadata": {},
   "source": [
    "To use the applymap() method to convert all string values in the DataFrame to uppercase, you can apply a function to each element of the DataFrame. Here's the code:"
   ]
  },
  {
   "cell_type": "code",
   "execution_count": 105,
   "id": "0c5418be-1d44-4d2a-ad93-43322acae653",
   "metadata": {},
   "outputs": [
    {
     "name": "stdout",
     "output_type": "stream",
     "text": [
      "   ID                Name  Age  Gender Department  Salary Joining Date  \\\n",
      "0   1        CORY ESCOBAR   48  FEMALE         HR  5641.0   2015-05-03   \n",
      "2   3        CHAD NICHOLS   57   OTHER      SALES  3058.0   2019-02-12   \n",
      "3   4  CHRISTINE WILLIAMS   58  FEMALE         IT  5895.0   2017-09-08   \n",
      "4   5        AMBER HARRIS   35   OTHER         IT  4317.0   2020-02-15   \n",
      "5   6         ASHLEY HOWE   29  FEMALE         HR  2591.0   2016-06-24   \n",
      "\n",
      "   Performance Score  Experience   Status  Location  Bonus  Salary_Normalized  \\\n",
      "0           2.000000          16   ACTIVE    REMOTE  564.1           0.454500   \n",
      "2           3.441128           2  RETIRED  NEW YORK  305.8           0.130735   \n",
      "3           2.000000          13  RETIRED    REMOTE  589.5           0.486337   \n",
      "4           5.000000          16  RETIRED  NEW YORK  431.7           0.288543   \n",
      "5           1.000000           6   ACTIVE    REMOTE  259.1           0.072199   \n",
      "\n",
      "  Experience Level    Age Group  Salary Rank  Joining Year  Monthly Salary  \n",
      "0           SENIOR  MIDDLE-AGED        113.0          2015      470.083333  \n",
      "2           JUNIOR       SENIOR        191.0          2019      254.833333  \n",
      "3           SENIOR       SENIOR        108.0          2017      491.250000  \n",
      "4           SENIOR  MIDDLE-AGED        157.0          2020      359.750000  \n",
      "5              MID        YOUNG        193.0          2016      215.916667  \n"
     ]
    },
    {
     "name": "stderr",
     "output_type": "stream",
     "text": [
      "C:\\Users\\charl\\AppData\\Local\\Temp\\ipykernel_19264\\2947478034.py:2: FutureWarning: DataFrame.applymap has been deprecated. Use DataFrame.map instead.\n",
      "  df = df.applymap(lambda x: x.upper() if isinstance(x, str) else x)\n"
     ]
    }
   ],
   "source": [
    "# Use applymap to convert all string values in the DataFrame to uppercase\n",
    "df = df.applymap(lambda x: x.upper() if isinstance(x, str) else x)\n",
    "\n",
    "# Display the first few rows to verify\n",
    "print(df.head())\n"
   ]
  },
  {
   "cell_type": "code",
   "execution_count": 106,
   "id": "facaf633-73b8-430f-962b-a2e29a4ef7ce",
   "metadata": {},
   "outputs": [],
   "source": [
    "#Question 45. Create a second dataset containing Department and Budget. Perform an inner join with the original dataset. "
   ]
  },
  {
   "cell_type": "markdown",
   "id": "3e00f683-6b49-420d-a269-9ea81ea69174",
   "metadata": {},
   "source": [
    "\n",
    "To perform an inner join between your original dataset and a second dataset containing Department and Budget, follow these steps:\n",
    "\n",
    "Create a second dataset with the Department and Budget columns.\n",
    "Use the merge() function to perform the inner join on the Department column."
   ]
  },
  {
   "cell_type": "code",
   "execution_count": 107,
   "id": "6901a417-d22c-40d7-9375-7ec6115e56dd",
   "metadata": {},
   "outputs": [
    {
     "name": "stdout",
     "output_type": "stream",
     "text": [
      "   ID                Name  Age  Gender Department  Salary Joining Date  \\\n",
      "0   1        CORY ESCOBAR   48  FEMALE         HR  5641.0   2015-05-03   \n",
      "1   4  CHRISTINE WILLIAMS   58  FEMALE         IT  5895.0   2017-09-08   \n",
      "2   5        AMBER HARRIS   35   OTHER         IT  4317.0   2020-02-15   \n",
      "3   6         ASHLEY HOWE   29  FEMALE         HR  2591.0   2016-06-24   \n",
      "4   8        AMANDA BAKER   52   OTHER         HR  6285.0   2015-04-01   \n",
      "\n",
      "   Performance Score  Experience   Status  Location  Bonus  Salary_Normalized  \\\n",
      "0           2.000000          16   ACTIVE    REMOTE  564.1           0.454500   \n",
      "1           2.000000          13  RETIRED    REMOTE  589.5           0.486337   \n",
      "2           5.000000          16  RETIRED  NEW YORK  431.7           0.288543   \n",
      "3           1.000000           6   ACTIVE    REMOTE  259.1           0.072199   \n",
      "4           3.441128           8  RETIRED   CHICAGO  628.5           0.535222   \n",
      "\n",
      "  Experience Level    Age Group  Salary Rank  Joining Year  Monthly Salary  \\\n",
      "0           SENIOR  MIDDLE-AGED        113.0          2015      470.083333   \n",
      "1           SENIOR       SENIOR        108.0          2017      491.250000   \n",
      "2           SENIOR  MIDDLE-AGED        157.0          2020      359.750000   \n",
      "3              MID        YOUNG        193.0          2016      215.916667   \n",
      "4              MID       SENIOR        102.0          2015      523.750000   \n",
      "\n",
      "   Budget  \n",
      "0   50000  \n",
      "1  120000  \n",
      "2  120000  \n",
      "3   50000  \n",
      "4   50000  \n"
     ]
    }
   ],
   "source": [
    "import pandas as pd\n",
    "\n",
    "# Original dataset (assuming 'df' is your original dataset)\n",
    "# Sample second dataset with 'Department' and 'Budget'\n",
    "data2 = {\n",
    "    'Department': ['HR', 'Sales', 'IT', 'Marketing', 'Finance'],\n",
    "    'Budget': [50000, 80000, 120000, 70000, 90000]\n",
    "}\n",
    "df2 = pd.DataFrame(data2)\n",
    "\n",
    "# Perform an inner join on 'Department'\n",
    "df_merged = pd.merge(df, df2, on='Department', how='inner')\n",
    "\n",
    "# Display the first few rows of the merged dataset\n",
    "print(df_merged.head())\n"
   ]
  },
  {
   "cell_type": "code",
   "execution_count": 108,
   "id": "e72e0a17-ec17-460c-b057-e73b764e5595",
   "metadata": {},
   "outputs": [],
   "source": [
    "#Question 46. Merge the dataset with another dataset that includes additional information about employee ID and their recent Projects. "
   ]
  },
  {
   "cell_type": "markdown",
   "id": "d541be08-601f-40a4-a689-4ab1f20c292d",
   "metadata": {},
   "source": [
    "df is your original dataset.\n",
    "df2 is the second dataset containing Employee ID and Recent Projects.\n",
    "The merge() function is used to merge the datasets on the Employee ID column. In your dataset, Employee ID corresponds to the ID column in the original dataset.\n",
    "how='left' ensures all rows from the original dataset (df) are kept, and the Recent Projects information from df2 is added where Employee ID matches. If no match is found, it will add NaN in the Recent Projects column for that row."
   ]
  },
  {
   "cell_type": "code",
   "execution_count": 109,
   "id": "4bf4bbea-247b-456f-aaba-d1f171703c52",
   "metadata": {},
   "outputs": [
    {
     "name": "stdout",
     "output_type": "stream",
     "text": [
      "   ID     Name Department  Salary Recent Projects\n",
      "0   1    Alice         HR    5000       Project A\n",
      "1   2      Bob         IT    6000       Project B\n",
      "2   3  Charlie      Sales    7000             NaN\n",
      "3   4    David         HR    8000       Project D\n",
      "4   5      Eve         IT    9000       Project E\n"
     ]
    }
   ],
   "source": [
    "import pandas as pd\n",
    "\n",
    "# Original dataset\n",
    "data1 = {\n",
    "    'ID': [1, 2, 3, 4, 5],\n",
    "    'Name': ['Alice', 'Bob', 'Charlie', 'David', 'Eve'],\n",
    "    'Department': ['HR', 'IT', 'Sales', 'HR', 'IT'],\n",
    "    'Salary': [5000, 6000, 7000, 8000, 9000]\n",
    "}\n",
    "df1 = pd.DataFrame(data1)\n",
    "\n",
    "# Second dataset with recent projects\n",
    "data2 = {\n",
    "    'ID': [1, 2, 4, 5],\n",
    "    'Recent Projects': ['Project A', 'Project B', 'Project D', 'Project E']\n",
    "}\n",
    "df2 = pd.DataFrame(data2)\n",
    "\n",
    "# Merge the datasets on 'ID'\n",
    "merged_df = pd.merge(df1, df2, on='ID', how='left')\n",
    "\n",
    "# Display the merged dataset\n",
    "print(merged_df)\n"
   ]
  },
  {
   "cell_type": "code",
   "execution_count": 110,
   "id": "f3c68959-9fba-4ad6-9c72-b03977627925",
   "metadata": {},
   "outputs": [],
   "source": [
    "#Question 47. Perform a left join with a dataset containing Department and Team Lead details, adding Team Lead to the DataFrame. "
   ]
  },
  {
   "cell_type": "markdown",
   "id": "22ae3a49-00c0-48df-a8ac-1418dd65b87f",
   "metadata": {},
   "source": [
    "df1: Original dataset containing employee details.\n",
    "df2: Dataset with Department and Team Lead information.\n",
    "pd.merge(): Merges the two datasets on the Department column.\n",
    "how='left': Ensures all rows from the original dataset are included, with missing team lead information filled with NaN."
   ]
  },
  {
   "cell_type": "code",
   "execution_count": 111,
   "id": "e1dccfd4-bec1-4c0d-8265-2908a2ffc326",
   "metadata": {},
   "outputs": [
    {
     "name": "stdout",
     "output_type": "stream",
     "text": [
      "   ID     Name Department  Salary Team Lead\n",
      "0   1    Alice         HR    5000     Karen\n",
      "1   2      Bob         IT    6000      Mike\n",
      "2   3  Charlie      Sales    7000     Susan\n",
      "3   4    David         HR    8000     Karen\n",
      "4   5      Eve         IT    9000      Mike\n"
     ]
    }
   ],
   "source": [
    "import pandas as pd\n",
    "\n",
    "# Original dataset\n",
    "data1 = {\n",
    "    'ID': [1, 2, 3, 4, 5],\n",
    "    'Name': ['Alice', 'Bob', 'Charlie', 'David', 'Eve'],\n",
    "    'Department': ['HR', 'IT', 'Sales', 'HR', 'IT'],\n",
    "    'Salary': [5000, 6000, 7000, 8000, 9000]\n",
    "}\n",
    "df1 = pd.DataFrame(data1)\n",
    "\n",
    "# Dataset with Department and Team Lead details\n",
    "data2 = {\n",
    "    'Department': ['HR', 'IT', 'Sales', 'Marketing'],\n",
    "    'Team Lead': ['Karen', 'Mike', 'Susan', 'John']\n",
    "}\n",
    "df2 = pd.DataFrame(data2)\n",
    "\n",
    "# Perform the left join on the 'Department' column\n",
    "merged_df = pd.merge(df1, df2, on='Department', how='left')\n",
    "\n",
    "# Display the merged DataFrame\n",
    "print(merged_df)\n"
   ]
  },
  {
   "cell_type": "code",
   "execution_count": 112,
   "id": "415f5d91-d59d-4bc0-9885-a20041339275",
   "metadata": {},
   "outputs": [],
   "source": [
    "#Question 48. Create a DataFrame with employee ID and Project Count, then merge it with the original dataset.Calculate the average Salary per project. "
   ]
  },
  {
   "cell_type": "markdown",
   "id": "ac8adfc0-a2e5-4c99-93ab-bd148108850d",
   "metadata": {},
   "source": [
    "Create the original dataset (df1) with employee details including ID, Name, Department, and Salary.\n",
    "Create another dataset (df2) with employee ID and Project Count.\n",
    "Perform a left join on ID using pd.merge().\n",
    "Add a new column Salary per Project by dividing the Salary by the Project Count.\n",
    "Calculate the overall average Salary per project using the .mean() method."
   ]
  },
  {
   "cell_type": "code",
   "execution_count": 113,
   "id": "ef99bd77-e56b-484f-ada1-5caf73d6abca",
   "metadata": {},
   "outputs": [
    {
     "name": "stdout",
     "output_type": "stream",
     "text": [
      "   ID     Name Department  Salary  Project Count  Salary per Project\n",
      "0   1    Alice         HR    5000              5              1000.0\n",
      "1   2      Bob         IT    6000              3              2000.0\n",
      "2   3  Charlie      Sales    7000              7              1000.0\n",
      "3   4    David         HR    8000              2              4000.0\n",
      "4   5      Eve         IT    9000              4              2250.0\n",
      "\n",
      "Overall Average Salary per Project: 2050.0\n"
     ]
    }
   ],
   "source": [
    "import pandas as pd\n",
    "\n",
    "# Original dataset\n",
    "data1 = {\n",
    "    'ID': [1, 2, 3, 4, 5],\n",
    "    'Name': ['Alice', 'Bob', 'Charlie', 'David', 'Eve'],\n",
    "    'Department': ['HR', 'IT', 'Sales', 'HR', 'IT'],\n",
    "    'Salary': [5000, 6000, 7000, 8000, 9000]\n",
    "}\n",
    "df1 = pd.DataFrame(data1)\n",
    "\n",
    "# Dataset with employee ID and Project Count\n",
    "data2 = {\n",
    "    'ID': [1, 2, 3, 4, 5],\n",
    "    'Project Count': [5, 3, 7, 2, 4]\n",
    "}\n",
    "df2 = pd.DataFrame(data2)\n",
    "\n",
    "# Merge the two datasets on 'ID'\n",
    "merged_df = pd.merge(df1, df2, on='ID', how='left')\n",
    "\n",
    "# Calculate the average Salary per project\n",
    "merged_df['Salary per Project'] = merged_df['Salary'] / merged_df['Project Count']\n",
    "\n",
    "# Display the final DataFrame\n",
    "print(merged_df)\n",
    "\n",
    "# Calculate the overall average Salary per project\n",
    "average_salary_per_project = merged_df['Salary per Project'].mean()\n",
    "print(\"\\nOverall Average Salary per Project:\", average_salary_per_project)\n"
   ]
  },
  {
   "cell_type": "code",
   "execution_count": 114,
   "id": "8250513d-cc06-4789-882c-bb0f3fba418e",
   "metadata": {},
   "outputs": [],
   "source": [
    "#Question 49 Calculate the percentage increase in Salary for each employee compared to the average Salary in their Department. "
   ]
  },
  {
   "cell_type": "markdown",
   "id": "753537d9-19dd-4fac-a194-5a290f06bb17",
   "metadata": {},
   "source": [
    "Calculate the average Salary per department using groupby() and transform('mean').\n",
    "The transform() method ensures the result matches the original DataFrame size.\n",
    "Calculate the percentage increase using the formula:\n",
    "Percentage Increase\n",
    "=\n",
    "Employee Salary\n",
    "−\n",
    "Average Salary\n",
    "Average Salary\n",
    "×\n",
    "100\n",
    "Percentage Increase= \n",
    "Average Salary\n",
    "Employee Salary−Average Salary\n",
    "​\n",
    " ×100\n",
    "Add this as a new column, Salary % Increase, in the DataFrame."
   ]
  },
  {
   "cell_type": "code",
   "execution_count": 115,
   "id": "a9c68b47-d0cd-4a85-9c0c-43986f280d57",
   "metadata": {},
   "outputs": [
    {
     "name": "stdout",
     "output_type": "stream",
     "text": [
      "   ID     Name Department  Salary  % Increase from Dept Avg\n",
      "0   1    Alice         HR    5000                -23.076923\n",
      "1   2      Bob         IT    6000                -20.000000\n",
      "2   3  Charlie      Sales    7000                  0.000000\n",
      "3   4    David         HR    8000                 23.076923\n",
      "4   5      Eve         IT    9000                 20.000000\n"
     ]
    }
   ],
   "source": [
    "import pandas as pd\n",
    "\n",
    "# Original dataset\n",
    "data = {\n",
    "    'ID': [1, 2, 3, 4, 5],\n",
    "    'Name': ['Alice', 'Bob', 'Charlie', 'David', 'Eve'],\n",
    "    'Department': ['HR', 'IT', 'Sales', 'HR', 'IT'],\n",
    "    'Salary': [5000, 6000, 7000, 8000, 9000]\n",
    "}\n",
    "df = pd.DataFrame(data)\n",
    "\n",
    "# Calculate the average Salary for each Department\n",
    "average_salary_by_department = df.groupby('Department')['Salary'].transform('mean')\n",
    "\n",
    "# Calculate the percentage increase for each employee\n",
    "df['% Increase from Dept Avg'] = ((df['Salary'] - average_salary_by_department) / average_salary_by_department) * 100\n",
    "\n",
    "# Display the final DataFrame\n",
    "print(df)\n"
   ]
  },
  {
   "cell_type": "code",
   "execution_count": null,
   "id": "5d9e85c8-9087-4fe0-b8ba-a5611c4dafc2",
   "metadata": {},
   "outputs": [],
   "source": []
  },
  {
   "cell_type": "code",
   "execution_count": null,
   "id": "68390032-4d7b-4276-ad97-a9651d23eaea",
   "metadata": {},
   "outputs": [],
   "source": []
  }
 ],
 "metadata": {
  "kernelspec": {
   "display_name": "Python 3 (ipykernel)",
   "language": "python",
   "name": "python3"
  },
  "language_info": {
   "codemirror_mode": {
    "name": "ipython",
    "version": 3
   },
   "file_extension": ".py",
   "mimetype": "text/x-python",
   "name": "python",
   "nbconvert_exporter": "python",
   "pygments_lexer": "ipython3",
   "version": "3.12.7"
  }
 },
 "nbformat": 4,
 "nbformat_minor": 5
}
